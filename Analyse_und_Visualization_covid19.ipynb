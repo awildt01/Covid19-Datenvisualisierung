{
  "nbformat": 4,
  "nbformat_minor": 0,
  "metadata": {
    "colab": {
      "provenance": [],
      "authorship_tag": "ABX9TyMgmD4qRXtDW8E4uMJIpkQ9",
      "include_colab_link": true
    },
    "kernelspec": {
      "name": "python3",
      "display_name": "Python 3"
    },
    "language_info": {
      "name": "python"
    }
  },
  "cells": [
    {
      "cell_type": "markdown",
      "metadata": {
        "id": "view-in-github",
        "colab_type": "text"
      },
      "source": [
        "<a href=\"https://colab.research.google.com/github/awildt01/Covid19-Datenvisualisierung/blob/main/Analyse_und_Visualization_covid19.ipynb\" target=\"_parent\"><img src=\"https://colab.research.google.com/assets/colab-badge.svg\" alt=\"Open In Colab\"/></a>"
      ]
    },
    {
      "cell_type": "code",
      "execution_count": 438,
      "metadata": {
        "id": "Evolcc4SNks4"
      },
      "outputs": [],
      "source": []
    },
    {
      "cell_type": "markdown",
      "source": [
        "COVID-19 é uma doença infecciosa causada por recém-descoberto coronavírus.\n",
        "\n",
        "Transmitido principalmente por meio de gotículas provenientes de tosses ou espirros de pessoas infectadas, a gravidade dos sintomas varia muito de pessoa para pessoa.\n",
        "\n",
        "Fato é, não se sabe muita coisa a respeito do COVID-19. Estudos estão sendo realizados no mundo todo, porém os resultados ainda não são conclusivos e definitivos.\n",
        "\n",
        "<center><img alt=\"Colaboratory logo\" width=\"50%\" src=\"https://static.poder360.com.br/2022/12/coronavirus-imagem-1-848x477.jpg\"></center>\n",
        "\n",
        "Até o presente momento, observa-se que cerca de 80% dos casos confirmados são assintomáticos e rápidos. A maioria das pessoas que se encaixam nesse grupo, se recupera sem nenhuma sequela.\n",
        "\n",
        "No entanto, 15% das pessoas terão infecções graves e precisarão de oxigênio. O restante das pessoas, que representam 5%, serão classificadas como infecções muito graves e precisarão de ventilação assistida, por meio de respiradores mecânicos em ambiente hospitalar.\n",
        "\n",
        "Com o objetivo de elevar a consciência situacional a respeito do COVID-19 no Brasil, irei realizar uma análise sobre os dados públicos da doença.\n",
        "\n",
        "Este projeto será dividido em duas fases. Na primeira fase, serão utilizados dados da Covid-19 de vários países, especialmente da China, EUA, Brasil e Alemanha. Utilizando técnicas de visualização de dados, serão respondidas questões analíticas específicas. Primeiramente, os conjuntos de dados são preparados e, em seguida, os seguintes pontos são investigados:\"\n",
        "\n",
        "- Como está a disseminação do vírus nesses países?\n",
        "- Qual foi a Taxa de infecção do vírus nos países?\n",
        "- As restrições nacionais e o autoisolamento em decorrência da Covid-19 têm impacto real na transmissão da COVID-19?\n",
        "- Visualização dos efeitos do lockdown nacional no Brasil na taxa de mortalidade.\n",
        "- Relação entre casos confirmados e óbitos confirmados.\n",
        "- Inzidenz/100.000 Einwohner.\n",
        "\n",
        "Na segunda fase, faremos uma análise específica voltada para o Brasil usando os dados do Ministério da Saúde\n",
        "\n",
        "# Sim, há uma relação entre casos confirmados e óbitos confirmados em qualquer surto de doença, incluindo a COVID-19. Em geral, a taxa de mortalidade é calculada como o número de óbitos confirmados dividido pelo número de casos confirmados. Esta taxa é conhecida como a taxa de letalidade.\n",
        "\n",
        "# No entanto, é importante notar que essa relação pode variar significativamente com base em diversos fatores, incluindo a capacidade do sistema de saúde para lidar com um grande número de casos, as medidas de prevenção implementadas, como o distanciamento social e uso de máscaras, a idade e as condições de saúde subjacentes da população afetada, bem como a precisão dos dados relatados.\n",
        "\n",
        "# Portanto, enquanto existe uma relação entre casos confirmados e óbitos confirmados, essa relação pode ser influenciada por vários fatores e deve ser interpretada com cuidado ao fazer análises e projeções.\n",
        "\n",
        "Um die Inzidenz pro 100.000 Einwohner zu berechnen, können Sie die folgende Formel verwenden:\n",
        "\n",
        "Inzidenz pro 100.000 Einwohner\n",
        "=(Anzahl der neuen Falle in einem bestimmten Zeitraum /\n",
        "Gesamtzahl der Einwohner in der Region)×100.000\n",
        "Diese Formel gibt Ihnen die Anzahl der neuen Fälle pro 100.000 Einwohner für einen bestimmten Zeitraum, oft pro Woche oder pro Monat. Stellen Sie sicher, dass Sie die gleiche Zeiteinheit für die Anzahl der neuen Fälle und die Gesamtzahl der Einwohner verwenden, um genaue Ergebnisse zu erhalten.\n",
        "\n",
        "Óbitos de COVID-19 por Semana Epidemiológica de notificação?\n",
        "Casos novos de COVID-19 por Semana Epidemiológica de notificação?\n",
        "\n",
        "1,9 % Letalidade 336,3 Mortalidade*\n",
        "\n",
        "\n",
        "Bei einer COVID-19-Analyse können verschiedene Messwerte und Kennzahlen betrachtet werden, um die Verbreitung und Auswirkungen des Virus zu verstehen. Hier sind einige wichtige Messwerte, die oft in COVID-19-Analysen verwendet werden:\n",
        "\n",
        "1. Fallzahlen: Dies umfasst die Gesamtzahl der bestätigten COVID-19-Fälle in einer bestimmten Region oder einem Land.\n",
        "\n",
        "2. Neue Fälle pro Tag/Woche/Monat: Dies gibt an, wie viele neue bestätigte Fälle pro Tag, Woche oder Monat gemeldet werden.\n",
        "\n",
        "3. Todesfälle: Die Gesamtzahl der an COVID-19 verstorbenen Personen.\n",
        "\n",
        "4. Genesene: Die Gesamtzahl der Personen, die von COVID-19 genesen sind.\n",
        "\n",
        "5. Inzidenz: Die Anzahl der neuen Fälle pro bestimmter Bevölkerung (normalerweise pro 100.000 Einwohner) in einem bestimmten Zeitraum.\n",
        "\n",
        "6. Positivitätsrate: Der Prozentsatz der durchgeführten COVID-19-Tests, die positiv ausfallen.\n",
        "\n",
        "7. Hospitalisierungsrate: Der Prozentsatz der COVID-19-Fälle, die ins Krankenhaus eingewiesen werden müssen.\n",
        "\n",
        "8. Intensivpflege- und Beatmungsbedürftigkeitsrate: Der Prozentsatz der COVID-19-Fälle, die intensivpflege- oder beatmungspflichtig sind.\n",
        "\n",
        "9. Reproduktionszahl (R-Wert): Die durchschnittliche Anzahl der Personen, die von einer infizierten Person angesteckt werden. Ein R-Wert über 1 zeigt an, dass sich das Virus verbreitet.\n",
        "\n",
        "Letalitätsrate: Der Prozentsatz der bestätigten COVID-19-Fälle, die tödlich verlaufen.\n",
        "\n",
        "Diese Messwerte werden oft verwendet, um die Ausbreitung des Virus zu überwachen, die Wirksamkeit von Maßnahmen zur Eindämmung zu bewerten und Entscheidungen im Gesundheitswesen zu unterstützen.\n",
        "\n",
        "infection rate for all of the countries\n",
        "link"
      ],
      "metadata": {
        "id": "etsnOIdAPZMd"
      }
    },
    {
      "cell_type": "markdown",
      "source": [
        "## Obtenção dos Dados\n",
        "\n",
        "Os dados foram obtidos do site Our World in Data, uma instituição filantrópica sediada na Oxford Martin School, que faz parte da Faculdade de Ciências Sociais da Universidade de Oxford.\n",
        "\n",
        "Seu objetivo é fornecer dados sobre desenvolvimento populacional, alimentação, tecnologia, guerra, prosperidade, mídia e política, entre outras áreas, considerando aspectos demográficos, econômicos, geográficos e culturais.\n",
        "\n",
        "Our World in Data obtém seus dados de instituições internacionais ou agências estatísticas, como a OCDE, o Banco Mundial e instituições da ONU. Além disso, utiliza dados oficiais de fontes governamentais. Por exemplo, nossos conjuntos de dados sobre vacinação e testes de COVID-19 compilam os números oficiais mais recentes publicados por governos e ministérios da saúde em todo o mundo.\n",
        "\n",
        "* *Website [neste link](https://github.com/owid/covid-19-data/tree/master/public/data).*\n",
        "\n",
        "\n",
        "### Desafio da análise\n",
        "\n",
        "O processo de analisar uma nova doença, como uma pandemia global, é incrivelmente desafiador. A falta de conhecimento prévio sobre a doença torna difícil entender sua propagação e impacto na saúde pública. Além disso, surgem conflitos entre os dados fornecidos pelos governos federal e estaduais, bem como por fontes não oficiais. Governos podem ter razões políticas e econômicas para apresentar dados de maneiras específicas, resultando em discrepâncias nas estatísticas oficiais. Além disso, diferenças nas metodologias de coleta de dados e nas definições de casos também contribuem para a disparidade nas informações. Nesse cenário desafiador, é fundamental para os analistas e pesquisadores utilizarem métodos rigorosos, fontes confiáveis e abordagens transparentes ao analisar dados relacionados a novas doenças. A colaboração internacional, a transparência nos processos de coleta de dados e a comunicação eficaz são essenciais para entender adequadamente e responder a uma doença emergente.\n",
        "\n",
        "\n",
        "### Dicionário de Variáveis\n",
        "* *dicionário de variáveis.*\n",
        "    * *A descrição do nome de cada coluna pode ser encontrada [neste link](https://github.com/owid/covid-19-data/blob/master/public/data/owid-covid-data-codebook.md).*\n",
        "\n",
        "**continent** **->** Continent of the geographical location\n",
        "\n",
        "**location** **->**  Geographical location\n",
        "\n",
        "**date** **->** Date of observation\n",
        "\n",
        "**total_cases** **->** \"Total confirmed cases of COVID-19. Counts can include probable cases, where reported.\"\n",
        "\n",
        "**new_cases** **->** New confirmed cases of COVID-19. Counts can include probable cases, where reported. In rare cases where our source reports a negative daily change due to a data correction, we set this metric to NA.\n",
        "\n",
        "**total_deaths** **->** Total deaths attributed to COVID-19. Counts can include probable deaths, where reported.\n",
        "\n",
        "**new_cases** **->**  New confirmed cases of COVID-19. Counts can include probable cases, where reported. In rare cases where our source reports a negative daily change due to a data correction, we set this metric to NA.\n",
        "\n",
        "**total_deaths** **->** Total deaths attributed to COVID-19. Counts can include probable deaths, where reported.\n",
        "\n",
        "**new_deaths** **->** New deaths attributed to COVID-19. Counts can include probable deaths, where reported. In rare cases where our source reports a negative daily change due to a data correction, we set this metric to NA.\n",
        "\n",
        "**total_cases_per_million**  **->** Total confirmed cases of COVID-19 per 1,000,000 people. Counts can include probable cases, where reported.\n",
        "\n",
        "**new_cases_per_million** **->** New confirmed cases of COVID-19 per 1,000,000 people. Counts can include probable cases, where reported.\n",
        "\n",
        "**total_deaths_per_million** **->** Total deaths attributed to COVID-19 per 1,000,000 people. Counts can include probable deaths, where reported.\n",
        "\n",
        "**new_deaths_per_million** **->** New deaths attributed to COVID-19 per 1,000,000 people. Counts can include probable deaths, where reported.\n",
        "\n",
        "**total_tests** **->** Total tests for COVID-19.\n",
        "\n",
        "**new_tests** **->** New tests for COVID-19 (only calculated for consecutive days)\n",
        "\n",
        "**total_tests_per_thousand**  **->** Total tests for COVID-19 per 1,000 people.\n",
        "\n",
        "**new_tests_per_thousand** **->** New tests for COVID-19 per 1,000 people.\n",
        "\n",
        "\n",
        "**new_deaths_smoothed** **->** \"New deaths attributed to COVID-19 (7-day smoothed). Counts can include probable deaths, where reported.\"\n",
        "\n",
        "**new_tests_smoothed** **->** New tests for COVID-19 (7-day smoothed). For countries that don't report testing data on a daily basis, we assume that testing changed equally on a daily basis over any periods in which no data was reported. This produces a complete series of daily figures, which is then averaged over a rolling 7-day window\n",
        "\n",
        "**new_tests_smoothed_per_thousand** **->** New tests for COVID-19 (7-day smoothed) per 1,000 people\n",
        "\n",
        "\n",
        "**tests_units** **->** Units used by the location to report its testing data. A country file can't contain mixed units. All metrics concerning testing data use the specified test unit. Valid units are 'people tested' (number of people tested), 'tests performed' (number of tests performed. a single person can be tested more than once in a given day) and 'samples tested' (number of samples tested. In some cases, more than one sample may be required to perform a given test.)\n",
        "\n",
        "**stringency_index** **->** Policy responses,\"Government Response Stringency Index: composite measure based on 9 response indicators including school closures, workplace closures, and travel bans, rescaled to a value from 0 to 100 (100 = strictest response)\"\n",
        "\n",
        "\n",
        "**population** **->** World Population Prospects 2019 Revision\",Others,\"Population (latest available values). See https://github.com/owid/covid-19-data/blob/master/scripts/input/un/population_latest.csv  for full list of sources\".\n",
        "\n",
        "\n",
        "\n",
        "**population_density** **->** Number of people divided by land area, measured in square kilometers, most recent year available.\n",
        "\n",
        "\n",
        "**median_age** **->** Median age of the population, UN projection for 2020.\n",
        "\n",
        "**aged_65_older** **->** World Bank World Development Indicators based on age/sex distributions of United Nations World Population Prospects 2017 Revision,Others,\"Share of the population that is 65 years and older, most recent year available\"\n",
        "\n",
        "\n",
        "**aged_70_older** **->** United Nations, Department of Economic and Social Affairs, Population Division (2017), World Population Prospects 2017 Revision\",Others,Share of the population that is 70 years and older in 2015\n",
        "\n",
        "\n",
        "**gdp_per_capita**  **->** International Comparison Program database\",Others,\"Gross domestic product at purchasing power parity (constant 2011 international dollars), most recent year available\"\n",
        "\n",
        "\n",
        "**extreme_poverty** **->** World Bank World Development Indicators, sourced from World Bank Development Research Group\",Others,\"Share of the population living in extreme poverty, most recent year available since 2010\n",
        "\n",
        "\n",
        "**cvd_death_rate** **->**  Global Burden of Disease Collaborative Network, Global Burden of Disease Study 2017 Results\",Others,\"Death rate from cardiovascular disease in 2017 (annual number of deaths per 100,000 people).\n",
        "\n",
        "\n",
        "**diabetes_prevalence** **->** World Bank World Development Indicators, sourced from International Diabetes Federation, Diabetes Atlas\",Others,Diabetes prevalence (% of population aged 20 to 79) in 2017.\n",
        "\n",
        "**female_smokers** **->** World Bank World Development Indicators, sourced from World Health Organization, Global Health Observatory Data Repository\",Others,Share of women who smoke, most recent year available\n",
        "\n",
        "**male_smokers** **->**  World Bank World Development Indicators, sourced from World Health Organization, Global Health Observatory Data Repository\",Others,\"Share of men who smoke, most recent year available\"\n",
        "\n",
        "**handwashing_facilities** **->** United Nations Statistics Division,Others,\"Share of the population with basic handwashing facilities on premises, most recent year available\n",
        "\n",
        "**hospital_beds_per_thousand** **->** \"OECD, Eurostat, World Bank, national government records and other sources\",Others,\"Hospital beds per 1,000 people, most recent year available since 2010\"\n",
        "\n",
        "\n",
        "\n",
        "\n",
        "  \n",
        "\n",
        "### Importando os dados do COVID-19\n",
        "\n",
        "* Você deve entrar no site [https://github.com/owid/covid-19-data/tree/master/public/data](https://github.com/owid/covid-19-data/tree/master/public/data) e conhecer a base dados. Usaremos o formato `csv` neste projeto.\n",
        "    * Caso encontre algum problema em baixar diretamente do repositório oficial, você pode usar [este meu link](https://raw.githubusercontent.com/carlosfab/dsnp2/master/datasets/owid-covid-data.csv) (atualizado até 14 de junho de 2020).\n",
        "* *Importe os dados do `csv` para a variável `df`.*\n",
        "    * *`pd.read_csv(\"endereco_do_arquivo.csv\")`*"
      ],
      "metadata": {
        "id": "TOR9byxLPzT1"
      }
    },
    {
      "cell_type": "code",
      "source": [
        "import numpy as np\n",
        "import pandas as pd\n",
        "import matplotlib.pyplot as plt\n",
        "import seaborn as sns\n",
        "\n",
        "sns.set_style()\n",
        "%matplotlib inline\n",
        "\n",
        "import warnings\n",
        "warnings.filterwarnings('ignore')\n",
        "\n",
        "data = 'https://raw.githubusercontent.com/carlosfab/dsnp2/master/datasets/owid-covid-data.csv'\n",
        "data_1 ='/content/owid-covid-data.csv'"
      ],
      "metadata": {
        "id": "Gp4rITOT2wYp"
      },
      "execution_count": 734,
      "outputs": []
    },
    {
      "cell_type": "code",
      "source": [
        "df = pd.read_csv(data_1)\n",
        "\n",
        "df.head()"
      ],
      "metadata": {
        "colab": {
          "base_uri": "https://localhost:8080/",
          "height": 360
        },
        "id": "7YY7oeRqORAf",
        "outputId": "571389ff-bdbd-4b15-a90a-4349d38de80b"
      },
      "execution_count": 735,
      "outputs": [
        {
          "output_type": "stream",
          "name": "stdout",
          "text": [
            "Warning: Total number of columns (67) exceeds max_columns (20). Falling back to pandas display.\n"
          ]
        },
        {
          "output_type": "execute_result",
          "data": {
            "text/plain": [
              "  iso_code continent     location        date  total_cases  new_cases  \\\n",
              "0      AFG      Asia  Afghanistan  2020-01-03          NaN        0.0   \n",
              "1      AFG      Asia  Afghanistan  2020-01-04          NaN        0.0   \n",
              "2      AFG      Asia  Afghanistan  2020-01-05          NaN        0.0   \n",
              "3      AFG      Asia  Afghanistan  2020-01-06          NaN        0.0   \n",
              "4      AFG      Asia  Afghanistan  2020-01-07          NaN        0.0   \n",
              "\n",
              "   new_cases_smoothed  total_deaths  new_deaths  new_deaths_smoothed  ...  \\\n",
              "0                 NaN           NaN         0.0                  NaN  ...   \n",
              "1                 NaN           NaN         0.0                  NaN  ...   \n",
              "2                 NaN           NaN         0.0                  NaN  ...   \n",
              "3                 NaN           NaN         0.0                  NaN  ...   \n",
              "4                 NaN           NaN         0.0                  NaN  ...   \n",
              "\n",
              "   male_smokers  handwashing_facilities  hospital_beds_per_thousand  \\\n",
              "0           NaN                  37.746                         0.5   \n",
              "1           NaN                  37.746                         0.5   \n",
              "2           NaN                  37.746                         0.5   \n",
              "3           NaN                  37.746                         0.5   \n",
              "4           NaN                  37.746                         0.5   \n",
              "\n",
              "   life_expectancy  human_development_index  population  \\\n",
              "0            64.83                    0.511  41128772.0   \n",
              "1            64.83                    0.511  41128772.0   \n",
              "2            64.83                    0.511  41128772.0   \n",
              "3            64.83                    0.511  41128772.0   \n",
              "4            64.83                    0.511  41128772.0   \n",
              "\n",
              "   excess_mortality_cumulative_absolute  excess_mortality_cumulative  \\\n",
              "0                                   NaN                          NaN   \n",
              "1                                   NaN                          NaN   \n",
              "2                                   NaN                          NaN   \n",
              "3                                   NaN                          NaN   \n",
              "4                                   NaN                          NaN   \n",
              "\n",
              "   excess_mortality  excess_mortality_cumulative_per_million  \n",
              "0               NaN                                      NaN  \n",
              "1               NaN                                      NaN  \n",
              "2               NaN                                      NaN  \n",
              "3               NaN                                      NaN  \n",
              "4               NaN                                      NaN  \n",
              "\n",
              "[5 rows x 67 columns]"
            ],
            "text/html": [
              "\n",
              "  <div id=\"df-80d7caab-d141-49c7-9226-a67b323fc1a4\" class=\"colab-df-container\">\n",
              "    <div>\n",
              "<style scoped>\n",
              "    .dataframe tbody tr th:only-of-type {\n",
              "        vertical-align: middle;\n",
              "    }\n",
              "\n",
              "    .dataframe tbody tr th {\n",
              "        vertical-align: top;\n",
              "    }\n",
              "\n",
              "    .dataframe thead th {\n",
              "        text-align: right;\n",
              "    }\n",
              "</style>\n",
              "<table border=\"1\" class=\"dataframe\">\n",
              "  <thead>\n",
              "    <tr style=\"text-align: right;\">\n",
              "      <th></th>\n",
              "      <th>iso_code</th>\n",
              "      <th>continent</th>\n",
              "      <th>location</th>\n",
              "      <th>date</th>\n",
              "      <th>total_cases</th>\n",
              "      <th>new_cases</th>\n",
              "      <th>new_cases_smoothed</th>\n",
              "      <th>total_deaths</th>\n",
              "      <th>new_deaths</th>\n",
              "      <th>new_deaths_smoothed</th>\n",
              "      <th>...</th>\n",
              "      <th>male_smokers</th>\n",
              "      <th>handwashing_facilities</th>\n",
              "      <th>hospital_beds_per_thousand</th>\n",
              "      <th>life_expectancy</th>\n",
              "      <th>human_development_index</th>\n",
              "      <th>population</th>\n",
              "      <th>excess_mortality_cumulative_absolute</th>\n",
              "      <th>excess_mortality_cumulative</th>\n",
              "      <th>excess_mortality</th>\n",
              "      <th>excess_mortality_cumulative_per_million</th>\n",
              "    </tr>\n",
              "  </thead>\n",
              "  <tbody>\n",
              "    <tr>\n",
              "      <th>0</th>\n",
              "      <td>AFG</td>\n",
              "      <td>Asia</td>\n",
              "      <td>Afghanistan</td>\n",
              "      <td>2020-01-03</td>\n",
              "      <td>NaN</td>\n",
              "      <td>0.0</td>\n",
              "      <td>NaN</td>\n",
              "      <td>NaN</td>\n",
              "      <td>0.0</td>\n",
              "      <td>NaN</td>\n",
              "      <td>...</td>\n",
              "      <td>NaN</td>\n",
              "      <td>37.746</td>\n",
              "      <td>0.5</td>\n",
              "      <td>64.83</td>\n",
              "      <td>0.511</td>\n",
              "      <td>41128772.0</td>\n",
              "      <td>NaN</td>\n",
              "      <td>NaN</td>\n",
              "      <td>NaN</td>\n",
              "      <td>NaN</td>\n",
              "    </tr>\n",
              "    <tr>\n",
              "      <th>1</th>\n",
              "      <td>AFG</td>\n",
              "      <td>Asia</td>\n",
              "      <td>Afghanistan</td>\n",
              "      <td>2020-01-04</td>\n",
              "      <td>NaN</td>\n",
              "      <td>0.0</td>\n",
              "      <td>NaN</td>\n",
              "      <td>NaN</td>\n",
              "      <td>0.0</td>\n",
              "      <td>NaN</td>\n",
              "      <td>...</td>\n",
              "      <td>NaN</td>\n",
              "      <td>37.746</td>\n",
              "      <td>0.5</td>\n",
              "      <td>64.83</td>\n",
              "      <td>0.511</td>\n",
              "      <td>41128772.0</td>\n",
              "      <td>NaN</td>\n",
              "      <td>NaN</td>\n",
              "      <td>NaN</td>\n",
              "      <td>NaN</td>\n",
              "    </tr>\n",
              "    <tr>\n",
              "      <th>2</th>\n",
              "      <td>AFG</td>\n",
              "      <td>Asia</td>\n",
              "      <td>Afghanistan</td>\n",
              "      <td>2020-01-05</td>\n",
              "      <td>NaN</td>\n",
              "      <td>0.0</td>\n",
              "      <td>NaN</td>\n",
              "      <td>NaN</td>\n",
              "      <td>0.0</td>\n",
              "      <td>NaN</td>\n",
              "      <td>...</td>\n",
              "      <td>NaN</td>\n",
              "      <td>37.746</td>\n",
              "      <td>0.5</td>\n",
              "      <td>64.83</td>\n",
              "      <td>0.511</td>\n",
              "      <td>41128772.0</td>\n",
              "      <td>NaN</td>\n",
              "      <td>NaN</td>\n",
              "      <td>NaN</td>\n",
              "      <td>NaN</td>\n",
              "    </tr>\n",
              "    <tr>\n",
              "      <th>3</th>\n",
              "      <td>AFG</td>\n",
              "      <td>Asia</td>\n",
              "      <td>Afghanistan</td>\n",
              "      <td>2020-01-06</td>\n",
              "      <td>NaN</td>\n",
              "      <td>0.0</td>\n",
              "      <td>NaN</td>\n",
              "      <td>NaN</td>\n",
              "      <td>0.0</td>\n",
              "      <td>NaN</td>\n",
              "      <td>...</td>\n",
              "      <td>NaN</td>\n",
              "      <td>37.746</td>\n",
              "      <td>0.5</td>\n",
              "      <td>64.83</td>\n",
              "      <td>0.511</td>\n",
              "      <td>41128772.0</td>\n",
              "      <td>NaN</td>\n",
              "      <td>NaN</td>\n",
              "      <td>NaN</td>\n",
              "      <td>NaN</td>\n",
              "    </tr>\n",
              "    <tr>\n",
              "      <th>4</th>\n",
              "      <td>AFG</td>\n",
              "      <td>Asia</td>\n",
              "      <td>Afghanistan</td>\n",
              "      <td>2020-01-07</td>\n",
              "      <td>NaN</td>\n",
              "      <td>0.0</td>\n",
              "      <td>NaN</td>\n",
              "      <td>NaN</td>\n",
              "      <td>0.0</td>\n",
              "      <td>NaN</td>\n",
              "      <td>...</td>\n",
              "      <td>NaN</td>\n",
              "      <td>37.746</td>\n",
              "      <td>0.5</td>\n",
              "      <td>64.83</td>\n",
              "      <td>0.511</td>\n",
              "      <td>41128772.0</td>\n",
              "      <td>NaN</td>\n",
              "      <td>NaN</td>\n",
              "      <td>NaN</td>\n",
              "      <td>NaN</td>\n",
              "    </tr>\n",
              "  </tbody>\n",
              "</table>\n",
              "<p>5 rows × 67 columns</p>\n",
              "</div>\n",
              "    <div class=\"colab-df-buttons\">\n",
              "\n",
              "  <div class=\"colab-df-container\">\n",
              "    <button class=\"colab-df-convert\" onclick=\"convertToInteractive('df-80d7caab-d141-49c7-9226-a67b323fc1a4')\"\n",
              "            title=\"Convert this dataframe to an interactive table.\"\n",
              "            style=\"display:none;\">\n",
              "\n",
              "  <svg xmlns=\"http://www.w3.org/2000/svg\" height=\"24px\" viewBox=\"0 -960 960 960\">\n",
              "    <path d=\"M120-120v-720h720v720H120Zm60-500h600v-160H180v160Zm220 220h160v-160H400v160Zm0 220h160v-160H400v160ZM180-400h160v-160H180v160Zm440 0h160v-160H620v160ZM180-180h160v-160H180v160Zm440 0h160v-160H620v160Z\"/>\n",
              "  </svg>\n",
              "    </button>\n",
              "\n",
              "  <style>\n",
              "    .colab-df-container {\n",
              "      display:flex;\n",
              "      gap: 12px;\n",
              "    }\n",
              "\n",
              "    .colab-df-convert {\n",
              "      background-color: #E8F0FE;\n",
              "      border: none;\n",
              "      border-radius: 50%;\n",
              "      cursor: pointer;\n",
              "      display: none;\n",
              "      fill: #1967D2;\n",
              "      height: 32px;\n",
              "      padding: 0 0 0 0;\n",
              "      width: 32px;\n",
              "    }\n",
              "\n",
              "    .colab-df-convert:hover {\n",
              "      background-color: #E2EBFA;\n",
              "      box-shadow: 0px 1px 2px rgba(60, 64, 67, 0.3), 0px 1px 3px 1px rgba(60, 64, 67, 0.15);\n",
              "      fill: #174EA6;\n",
              "    }\n",
              "\n",
              "    .colab-df-buttons div {\n",
              "      margin-bottom: 4px;\n",
              "    }\n",
              "\n",
              "    [theme=dark] .colab-df-convert {\n",
              "      background-color: #3B4455;\n",
              "      fill: #D2E3FC;\n",
              "    }\n",
              "\n",
              "    [theme=dark] .colab-df-convert:hover {\n",
              "      background-color: #434B5C;\n",
              "      box-shadow: 0px 1px 3px 1px rgba(0, 0, 0, 0.15);\n",
              "      filter: drop-shadow(0px 1px 2px rgba(0, 0, 0, 0.3));\n",
              "      fill: #FFFFFF;\n",
              "    }\n",
              "  </style>\n",
              "\n",
              "    <script>\n",
              "      const buttonEl =\n",
              "        document.querySelector('#df-80d7caab-d141-49c7-9226-a67b323fc1a4 button.colab-df-convert');\n",
              "      buttonEl.style.display =\n",
              "        google.colab.kernel.accessAllowed ? 'block' : 'none';\n",
              "\n",
              "      async function convertToInteractive(key) {\n",
              "        const element = document.querySelector('#df-80d7caab-d141-49c7-9226-a67b323fc1a4');\n",
              "        const dataTable =\n",
              "          await google.colab.kernel.invokeFunction('convertToInteractive',\n",
              "                                                    [key], {});\n",
              "        if (!dataTable) return;\n",
              "\n",
              "        const docLinkHtml = 'Like what you see? Visit the ' +\n",
              "          '<a target=\"_blank\" href=https://colab.research.google.com/notebooks/data_table.ipynb>data table notebook</a>'\n",
              "          + ' to learn more about interactive tables.';\n",
              "        element.innerHTML = '';\n",
              "        dataTable['output_type'] = 'display_data';\n",
              "        await google.colab.output.renderOutput(dataTable, element);\n",
              "        const docLink = document.createElement('div');\n",
              "        docLink.innerHTML = docLinkHtml;\n",
              "        element.appendChild(docLink);\n",
              "      }\n",
              "    </script>\n",
              "  </div>\n",
              "\n",
              "\n",
              "<div id=\"df-fafcc7be-8675-42be-8b22-3b46c3182c3a\">\n",
              "  <button class=\"colab-df-quickchart\" onclick=\"quickchart('df-fafcc7be-8675-42be-8b22-3b46c3182c3a')\"\n",
              "            title=\"Suggest charts\"\n",
              "            style=\"display:none;\">\n",
              "\n",
              "<svg xmlns=\"http://www.w3.org/2000/svg\" height=\"24px\"viewBox=\"0 0 24 24\"\n",
              "     width=\"24px\">\n",
              "    <g>\n",
              "        <path d=\"M19 3H5c-1.1 0-2 .9-2 2v14c0 1.1.9 2 2 2h14c1.1 0 2-.9 2-2V5c0-1.1-.9-2-2-2zM9 17H7v-7h2v7zm4 0h-2V7h2v10zm4 0h-2v-4h2v4z\"/>\n",
              "    </g>\n",
              "</svg>\n",
              "  </button>\n",
              "\n",
              "<style>\n",
              "  .colab-df-quickchart {\n",
              "      --bg-color: #E8F0FE;\n",
              "      --fill-color: #1967D2;\n",
              "      --hover-bg-color: #E2EBFA;\n",
              "      --hover-fill-color: #174EA6;\n",
              "      --disabled-fill-color: #AAA;\n",
              "      --disabled-bg-color: #DDD;\n",
              "  }\n",
              "\n",
              "  [theme=dark] .colab-df-quickchart {\n",
              "      --bg-color: #3B4455;\n",
              "      --fill-color: #D2E3FC;\n",
              "      --hover-bg-color: #434B5C;\n",
              "      --hover-fill-color: #FFFFFF;\n",
              "      --disabled-bg-color: #3B4455;\n",
              "      --disabled-fill-color: #666;\n",
              "  }\n",
              "\n",
              "  .colab-df-quickchart {\n",
              "    background-color: var(--bg-color);\n",
              "    border: none;\n",
              "    border-radius: 50%;\n",
              "    cursor: pointer;\n",
              "    display: none;\n",
              "    fill: var(--fill-color);\n",
              "    height: 32px;\n",
              "    padding: 0;\n",
              "    width: 32px;\n",
              "  }\n",
              "\n",
              "  .colab-df-quickchart:hover {\n",
              "    background-color: var(--hover-bg-color);\n",
              "    box-shadow: 0 1px 2px rgba(60, 64, 67, 0.3), 0 1px 3px 1px rgba(60, 64, 67, 0.15);\n",
              "    fill: var(--button-hover-fill-color);\n",
              "  }\n",
              "\n",
              "  .colab-df-quickchart-complete:disabled,\n",
              "  .colab-df-quickchart-complete:disabled:hover {\n",
              "    background-color: var(--disabled-bg-color);\n",
              "    fill: var(--disabled-fill-color);\n",
              "    box-shadow: none;\n",
              "  }\n",
              "\n",
              "  .colab-df-spinner {\n",
              "    border: 2px solid var(--fill-color);\n",
              "    border-color: transparent;\n",
              "    border-bottom-color: var(--fill-color);\n",
              "    animation:\n",
              "      spin 1s steps(1) infinite;\n",
              "  }\n",
              "\n",
              "  @keyframes spin {\n",
              "    0% {\n",
              "      border-color: transparent;\n",
              "      border-bottom-color: var(--fill-color);\n",
              "      border-left-color: var(--fill-color);\n",
              "    }\n",
              "    20% {\n",
              "      border-color: transparent;\n",
              "      border-left-color: var(--fill-color);\n",
              "      border-top-color: var(--fill-color);\n",
              "    }\n",
              "    30% {\n",
              "      border-color: transparent;\n",
              "      border-left-color: var(--fill-color);\n",
              "      border-top-color: var(--fill-color);\n",
              "      border-right-color: var(--fill-color);\n",
              "    }\n",
              "    40% {\n",
              "      border-color: transparent;\n",
              "      border-right-color: var(--fill-color);\n",
              "      border-top-color: var(--fill-color);\n",
              "    }\n",
              "    60% {\n",
              "      border-color: transparent;\n",
              "      border-right-color: var(--fill-color);\n",
              "    }\n",
              "    80% {\n",
              "      border-color: transparent;\n",
              "      border-right-color: var(--fill-color);\n",
              "      border-bottom-color: var(--fill-color);\n",
              "    }\n",
              "    90% {\n",
              "      border-color: transparent;\n",
              "      border-bottom-color: var(--fill-color);\n",
              "    }\n",
              "  }\n",
              "</style>\n",
              "\n",
              "  <script>\n",
              "    async function quickchart(key) {\n",
              "      const quickchartButtonEl =\n",
              "        document.querySelector('#' + key + ' button');\n",
              "      quickchartButtonEl.disabled = true;  // To prevent multiple clicks.\n",
              "      quickchartButtonEl.classList.add('colab-df-spinner');\n",
              "      try {\n",
              "        const charts = await google.colab.kernel.invokeFunction(\n",
              "            'suggestCharts', [key], {});\n",
              "      } catch (error) {\n",
              "        console.error('Error during call to suggestCharts:', error);\n",
              "      }\n",
              "      quickchartButtonEl.classList.remove('colab-df-spinner');\n",
              "      quickchartButtonEl.classList.add('colab-df-quickchart-complete');\n",
              "    }\n",
              "    (() => {\n",
              "      let quickchartButtonEl =\n",
              "        document.querySelector('#df-fafcc7be-8675-42be-8b22-3b46c3182c3a button');\n",
              "      quickchartButtonEl.style.display =\n",
              "        google.colab.kernel.accessAllowed ? 'block' : 'none';\n",
              "    })();\n",
              "  </script>\n",
              "</div>\n",
              "    </div>\n",
              "  </div>\n"
            ]
          },
          "metadata": {},
          "execution_count": 735
        }
      ]
    },
    {
      "cell_type": "code",
      "source": [
        "df.info()"
      ],
      "metadata": {
        "colab": {
          "base_uri": "https://localhost:8080/"
        },
        "id": "XxBqqTDYQf0-",
        "outputId": "ab6bb2f2-3293-42ef-dfd4-1be8a7bd5bd0"
      },
      "execution_count": 736,
      "outputs": [
        {
          "output_type": "stream",
          "name": "stdout",
          "text": [
            "<class 'pandas.core.frame.DataFrame'>\n",
            "RangeIndex: 353730 entries, 0 to 353729\n",
            "Data columns (total 67 columns):\n",
            " #   Column                                      Non-Null Count   Dtype  \n",
            "---  ------                                      --------------   -----  \n",
            " 0   iso_code                                    353730 non-null  object \n",
            " 1   continent                                   336914 non-null  object \n",
            " 2   location                                    353730 non-null  object \n",
            " 3   date                                        353730 non-null  object \n",
            " 4   total_cases                                 315748 non-null  float64\n",
            " 5   new_cases                                   344151 non-null  float64\n",
            " 6   new_cases_smoothed                          342892 non-null  float64\n",
            " 7   total_deaths                                294071 non-null  float64\n",
            " 8   new_deaths                                  344196 non-null  float64\n",
            " 9   new_deaths_smoothed                         342966 non-null  float64\n",
            " 10  total_cases_per_million                     315748 non-null  float64\n",
            " 11  new_cases_per_million                       344151 non-null  float64\n",
            " 12  new_cases_smoothed_per_million              342892 non-null  float64\n",
            " 13  total_deaths_per_million                    294071 non-null  float64\n",
            " 14  new_deaths_per_million                      344196 non-null  float64\n",
            " 15  new_deaths_smoothed_per_million             342966 non-null  float64\n",
            " 16  reproduction_rate                           184817 non-null  float64\n",
            " 17  icu_patients                                37701 non-null   float64\n",
            " 18  icu_patients_per_million                    37701 non-null   float64\n",
            " 19  hosp_patients                               39028 non-null   float64\n",
            " 20  hosp_patients_per_million                   39028 non-null   float64\n",
            " 21  weekly_icu_admissions                       10254 non-null   float64\n",
            " 22  weekly_icu_admissions_per_million           10254 non-null   float64\n",
            " 23  weekly_hosp_admissions                      23350 non-null   float64\n",
            " 24  weekly_hosp_admissions_per_million          23350 non-null   float64\n",
            " 25  total_tests                                 79387 non-null   float64\n",
            " 26  new_tests                                   75403 non-null   float64\n",
            " 27  total_tests_per_thousand                    79387 non-null   float64\n",
            " 28  new_tests_per_thousand                      75403 non-null   float64\n",
            " 29  new_tests_smoothed                          103965 non-null  float64\n",
            " 30  new_tests_smoothed_per_thousand             103965 non-null  float64\n",
            " 31  positive_rate                               95927 non-null   float64\n",
            " 32  tests_per_case                              94348 non-null   float64\n",
            " 33  tests_units                                 106788 non-null  object \n",
            " 34  total_vaccinations                          79585 non-null   float64\n",
            " 35  people_vaccinated                           76173 non-null   float64\n",
            " 36  people_fully_vaccinated                     72848 non-null   float64\n",
            " 37  total_boosters                              47822 non-null   float64\n",
            " 38  new_vaccinations                            65593 non-null   float64\n",
            " 39  new_vaccinations_smoothed                   182428 non-null  float64\n",
            " 40  total_vaccinations_per_hundred              79585 non-null   float64\n",
            " 41  people_vaccinated_per_hundred               76173 non-null   float64\n",
            " 42  people_fully_vaccinated_per_hundred         72848 non-null   float64\n",
            " 43  total_boosters_per_hundred                  47822 non-null   float64\n",
            " 44  new_vaccinations_smoothed_per_million       182428 non-null  float64\n",
            " 45  new_people_vaccinated_smoothed              182208 non-null  float64\n",
            " 46  new_people_vaccinated_smoothed_per_hundred  182208 non-null  float64\n",
            " 47  stringency_index                            197651 non-null  float64\n",
            " 48  population_density                          300326 non-null  float64\n",
            " 49  median_age                                  279275 non-null  float64\n",
            " 50  aged_65_older                               269526 non-null  float64\n",
            " 51  aged_70_older                               276475 non-null  float64\n",
            " 52  gdp_per_capita                              273726 non-null  float64\n",
            " 53  extreme_poverty                             176418 non-null  float64\n",
            " 54  cardiovasc_death_rate                       274370 non-null  float64\n",
            " 55  diabetes_prevalence                         288331 non-null  float64\n",
            " 56  female_smokers                              205822 non-null  float64\n",
            " 57  male_smokers                                203022 non-null  float64\n",
            " 58  handwashing_facilities                      134406 non-null  float64\n",
            " 59  hospital_beds_per_thousand                  242222 non-null  float64\n",
            " 60  life_expectancy                             325475 non-null  float64\n",
            " 61  human_development_index                     265931 non-null  float64\n",
            " 62  population                                  353730 non-null  float64\n",
            " 63  excess_mortality_cumulative_absolute        12206 non-null   float64\n",
            " 64  excess_mortality_cumulative                 12206 non-null   float64\n",
            " 65  excess_mortality                            12206 non-null   float64\n",
            " 66  excess_mortality_cumulative_per_million     12206 non-null   float64\n",
            "dtypes: float64(62), object(5)\n",
            "memory usage: 180.8+ MB\n"
          ]
        }
      ]
    },
    {
      "cell_type": "code",
      "source": [
        "# verificando as dimensões\n",
        "print('Dimensões do Dataset',\n",
        "    '\\nVariáveis: ',df.shape[1], \"\\n\"\n",
        "      'Entradas: ', df.shape[0])"
      ],
      "metadata": {
        "colab": {
          "base_uri": "https://localhost:8080/"
        },
        "id": "gEXLjxOGQmnP",
        "outputId": "35208a82-cc6a-40bb-f4d6-1fc995b7acaa"
      },
      "execution_count": 737,
      "outputs": [
        {
          "output_type": "stream",
          "name": "stdout",
          "text": [
            "Dimensões do Dataset \n",
            "Variáveis:  67 \n",
            "Entradas:  353730\n"
          ]
        }
      ]
    },
    {
      "cell_type": "code",
      "source": [
        "df.columns"
      ],
      "metadata": {
        "colab": {
          "base_uri": "https://localhost:8080/"
        },
        "id": "K7zdnEEdVcqu",
        "outputId": "970175c0-2738-49bd-a43e-a9a3d48fd743"
      },
      "execution_count": 738,
      "outputs": [
        {
          "output_type": "execute_result",
          "data": {
            "text/plain": [
              "Index(['iso_code', 'continent', 'location', 'date', 'total_cases', 'new_cases',\n",
              "       'new_cases_smoothed', 'total_deaths', 'new_deaths',\n",
              "       'new_deaths_smoothed', 'total_cases_per_million',\n",
              "       'new_cases_per_million', 'new_cases_smoothed_per_million',\n",
              "       'total_deaths_per_million', 'new_deaths_per_million',\n",
              "       'new_deaths_smoothed_per_million', 'reproduction_rate', 'icu_patients',\n",
              "       'icu_patients_per_million', 'hosp_patients',\n",
              "       'hosp_patients_per_million', 'weekly_icu_admissions',\n",
              "       'weekly_icu_admissions_per_million', 'weekly_hosp_admissions',\n",
              "       'weekly_hosp_admissions_per_million', 'total_tests', 'new_tests',\n",
              "       'total_tests_per_thousand', 'new_tests_per_thousand',\n",
              "       'new_tests_smoothed', 'new_tests_smoothed_per_thousand',\n",
              "       'positive_rate', 'tests_per_case', 'tests_units', 'total_vaccinations',\n",
              "       'people_vaccinated', 'people_fully_vaccinated', 'total_boosters',\n",
              "       'new_vaccinations', 'new_vaccinations_smoothed',\n",
              "       'total_vaccinations_per_hundred', 'people_vaccinated_per_hundred',\n",
              "       'people_fully_vaccinated_per_hundred', 'total_boosters_per_hundred',\n",
              "       'new_vaccinations_smoothed_per_million',\n",
              "       'new_people_vaccinated_smoothed',\n",
              "       'new_people_vaccinated_smoothed_per_hundred', 'stringency_index',\n",
              "       'population_density', 'median_age', 'aged_65_older', 'aged_70_older',\n",
              "       'gdp_per_capita', 'extreme_poverty', 'cardiovasc_death_rate',\n",
              "       'diabetes_prevalence', 'female_smokers', 'male_smokers',\n",
              "       'handwashing_facilities', 'hospital_beds_per_thousand',\n",
              "       'life_expectancy', 'human_development_index', 'population',\n",
              "       'excess_mortality_cumulative_absolute', 'excess_mortality_cumulative',\n",
              "       'excess_mortality', 'excess_mortality_cumulative_per_million'],\n",
              "      dtype='object')"
            ]
          },
          "metadata": {},
          "execution_count": 738
        }
      ]
    },
    {
      "cell_type": "code",
      "source": [
        "# verificando dados ausentes\n",
        "round((df[['iso_code', 'continent', 'location', 'date', 'total_cases', 'new_cases',\n",
        "       'new_cases_smoothed', 'total_deaths', 'new_deaths',\n",
        "       'new_deaths_smoothed', 'total_cases_per_million',\n",
        "       'new_cases_per_million', 'new_cases_smoothed_per_million',\n",
        "       'total_deaths_per_million', 'new_deaths_per_million',\n",
        "       'new_deaths_smoothed_per_million', 'reproduction_rate', 'icu_patients',\n",
        "       'icu_patients_per_million', 'hosp_patients',\n",
        "       'hosp_patients_per_million', 'weekly_icu_admissions',\n",
        "       'weekly_icu_admissions_per_million', 'weekly_hosp_admissions',\n",
        "       'weekly_hosp_admissions_per_million', 'total_tests', 'new_tests',\n",
        "       'total_tests_per_thousand', 'new_tests_per_thousand',\n",
        "       'new_tests_smoothed', 'new_tests_smoothed_per_thousand',\n",
        "       'positive_rate', 'tests_per_case', 'tests_units', 'total_vaccinations',\n",
        "       'people_vaccinated', 'people_fully_vaccinated', 'total_boosters',\n",
        "       'new_vaccinations', 'new_vaccinations_smoothed',\n",
        "       'total_vaccinations_per_hundred', 'people_vaccinated_per_hundred',\n",
        "       'people_fully_vaccinated_per_hundred', 'total_boosters_per_hundred',\n",
        "       'new_vaccinations_smoothed_per_million',]].isnull().sum() / df.shape[0]).sort_values(ascending=False),2)"
      ],
      "metadata": {
        "colab": {
          "base_uri": "https://localhost:8080/"
        },
        "id": "jrfezJhrROaw",
        "outputId": "92711a09-ebc1-4080-8570-5f1a5748b9df"
      },
      "execution_count": 739,
      "outputs": [
        {
          "output_type": "execute_result",
          "data": {
            "text/plain": [
              "weekly_icu_admissions_per_million        0.97\n",
              "weekly_icu_admissions                    0.97\n",
              "weekly_hosp_admissions_per_million       0.93\n",
              "weekly_hosp_admissions                   0.93\n",
              "icu_patients                             0.89\n",
              "icu_patients_per_million                 0.89\n",
              "hosp_patients_per_million                0.89\n",
              "hosp_patients                            0.89\n",
              "total_boosters_per_hundred               0.86\n",
              "total_boosters                           0.86\n",
              "new_vaccinations                         0.81\n",
              "people_fully_vaccinated_per_hundred      0.79\n",
              "people_fully_vaccinated                  0.79\n",
              "new_tests_per_thousand                   0.79\n",
              "new_tests                                0.79\n",
              "people_vaccinated                        0.78\n",
              "people_vaccinated_per_hundred            0.78\n",
              "total_tests_per_thousand                 0.78\n",
              "total_tests                              0.78\n",
              "total_vaccinations                       0.78\n",
              "total_vaccinations_per_hundred           0.78\n",
              "tests_per_case                           0.73\n",
              "positive_rate                            0.73\n",
              "new_tests_smoothed_per_thousand          0.71\n",
              "new_tests_smoothed                       0.71\n",
              "tests_units                              0.70\n",
              "new_vaccinations_smoothed                0.48\n",
              "new_vaccinations_smoothed_per_million    0.48\n",
              "reproduction_rate                        0.48\n",
              "total_deaths_per_million                 0.17\n",
              "total_deaths                             0.17\n",
              "total_cases                              0.11\n",
              "total_cases_per_million                  0.11\n",
              "continent                                0.05\n",
              "new_cases_smoothed                       0.03\n",
              "new_cases_smoothed_per_million           0.03\n",
              "new_deaths_smoothed                      0.03\n",
              "new_deaths_smoothed_per_million          0.03\n",
              "new_cases_per_million                    0.03\n",
              "new_cases                                0.03\n",
              "new_deaths                               0.03\n",
              "new_deaths_per_million                   0.03\n",
              "date                                     0.00\n",
              "location                                 0.00\n",
              "iso_code                                 0.00\n",
              "dtype: float64"
            ]
          },
          "metadata": {},
          "execution_count": 739
        }
      ]
    },
    {
      "cell_type": "code",
      "source": [
        "round((df[['new_people_vaccinated_smoothed_per_hundred', 'stringency_index',\n",
        "       'population_density', 'median_age', 'aged_65_older', 'aged_70_older',\n",
        "       'gdp_per_capita', 'extreme_poverty', 'cardiovasc_death_rate',\n",
        "       'diabetes_prevalence', 'female_smokers', 'male_smokers',\n",
        "       'handwashing_facilities', 'hospital_beds_per_thousand',\n",
        "       'life_expectancy', 'human_development_index', 'population',\n",
        "       'excess_mortality_cumulative_absolute', 'excess_mortality_cumulative',\n",
        "       'excess_mortality', 'excess_mortality_cumulative_per_million']].isnull().sum() / df.shape[0]).sort_values(ascending=False),2)"
      ],
      "metadata": {
        "colab": {
          "base_uri": "https://localhost:8080/"
        },
        "id": "eooSd1qoQ_4_",
        "outputId": "e7bfa09f-ed74-4d20-fe00-769bf4bf48d6"
      },
      "execution_count": 740,
      "outputs": [
        {
          "output_type": "execute_result",
          "data": {
            "text/plain": [
              "excess_mortality_cumulative_per_million       0.97\n",
              "excess_mortality                              0.97\n",
              "excess_mortality_cumulative                   0.97\n",
              "excess_mortality_cumulative_absolute          0.97\n",
              "handwashing_facilities                        0.62\n",
              "extreme_poverty                               0.50\n",
              "new_people_vaccinated_smoothed_per_hundred    0.48\n",
              "stringency_index                              0.44\n",
              "male_smokers                                  0.43\n",
              "female_smokers                                0.42\n",
              "hospital_beds_per_thousand                    0.32\n",
              "human_development_index                       0.25\n",
              "aged_65_older                                 0.24\n",
              "gdp_per_capita                                0.23\n",
              "cardiovasc_death_rate                         0.22\n",
              "aged_70_older                                 0.22\n",
              "median_age                                    0.21\n",
              "diabetes_prevalence                           0.18\n",
              "population_density                            0.15\n",
              "life_expectancy                               0.08\n",
              "population                                    0.00\n",
              "dtype: float64"
            ]
          },
          "metadata": {},
          "execution_count": 740
        }
      ]
    },
    {
      "cell_type": "code",
      "source": [
        "print('{} Numeros de  duplicatas'.format(sum(df.duplicated()))) # mostrar as duplicatas\n",
        "print('{} number of missing cells'.format(df.isna().sum().sum())) # number of missing cells\n",
        "print('{}% percentage of missing cells'.format(round(df.isna().sum().sum() / df.size * 100, 1))) # percentage of missing cells\n",
        "print('{} verificando a data mais recente do dataset'.format(df.date.max())) # verificando a data mais recente do dataset\n",
        "print('{} verificando a primeira data  do dataset'.format(df.date.min())) # verificando a primeira data  do dataset"
      ],
      "metadata": {
        "colab": {
          "base_uri": "https://localhost:8080/"
        },
        "id": "aBJlg2rRTk0n",
        "outputId": "0c1f40d9-b959-46b2-8da2-4c2c03b0e650"
      },
      "execution_count": 741,
      "outputs": [
        {
          "output_type": "stream",
          "name": "stdout",
          "text": [
            "0 Numeros de  duplicatas\n",
            "11650451 number of missing cells\n",
            "49.2% percentage of missing cells\n",
            "2023-11-04 verificando a data mais recente do dataset\n",
            "2020-01-01 verificando a primeira data  do dataset\n"
          ]
        }
      ]
    },
    {
      "cell_type": "markdown",
      "source": [
        "## Selecionando os paise para a análise como um novo Dataframe\n",
        "\n",
        "Podemos observar que no conjunto de dados original, 49,2% dos dados estão faltando.\n",
        "\n",
        "Para nossa análise, vamos nos concentrar nos seguintes países: Alemanha, Brasil, Estados Unidos, China e Índia. Esses países têm uma considerável população, o que nos ajuda a entender como a propagação do vírus ocorre. Além disso, esses países estão em diferentes estágios de desenvolvimento em relação ao Índice de Desenvolvimento Humano. Para realizar essa análise, vamos selecionar esses países do nosso conjunto de dados original\n",
        "\n",
        "\n",
        "\n"
      ],
      "metadata": {
        "id": "mQzOPPYrLuET"
      }
    },
    {
      "cell_type": "code",
      "source": [
        "filtro_de_paises = ['Brazil','China','Germany','United States','India']\n",
        "\n",
        "df_select_paises =  df[df.location.isin(filtro_de_paises)]\n",
        "\n",
        "df_select_paises = df_select_paises.reset_index()\n",
        "\n",
        "df_select_paises.location.unique()"
      ],
      "metadata": {
        "colab": {
          "base_uri": "https://localhost:8080/"
        },
        "id": "tT1Vp0SkYU1S",
        "outputId": "9d562b7a-2f07-4f4b-cb8d-2e071b917ea6"
      },
      "execution_count": 742,
      "outputs": [
        {
          "output_type": "execute_result",
          "data": {
            "text/plain": [
              "array(['Brazil', 'China', 'Germany', 'India', 'United States'],\n",
              "      dtype=object)"
            ]
          },
          "metadata": {},
          "execution_count": 742
        }
      ]
    },
    {
      "cell_type": "code",
      "source": [
        "df_select_paises.info()"
      ],
      "metadata": {
        "colab": {
          "base_uri": "https://localhost:8080/"
        },
        "id": "Irhv6-XrZcNG",
        "outputId": "2350a62a-9993-4a5d-d554-f4fa97f93619"
      },
      "execution_count": 721,
      "outputs": [
        {
          "output_type": "stream",
          "name": "stdout",
          "text": [
            "<class 'pandas.core.frame.DataFrame'>\n",
            "RangeIndex: 7002 entries, 0 to 7001\n",
            "Data columns (total 68 columns):\n",
            " #   Column                                      Non-Null Count  Dtype  \n",
            "---  ------                                      --------------  -----  \n",
            " 0   index                                       7002 non-null   int64  \n",
            " 1   iso_code                                    7002 non-null   object \n",
            " 2   continent                                   7002 non-null   object \n",
            " 3   location                                    7002 non-null   object \n",
            " 4   date                                        7002 non-null   object \n",
            " 5   total_cases                                 6899 non-null   float64\n",
            " 6   new_cases                                   6824 non-null   float64\n",
            " 7   new_cases_smoothed                          6799 non-null   float64\n",
            " 8   total_deaths                                6786 non-null   float64\n",
            " 9   new_deaths                                  6832 non-null   float64\n",
            " 10  new_deaths_smoothed                         6807 non-null   float64\n",
            " 11  total_cases_per_million                     6899 non-null   float64\n",
            " 12  new_cases_per_million                       6824 non-null   float64\n",
            " 13  new_cases_smoothed_per_million              6799 non-null   float64\n",
            " 14  total_deaths_per_million                    6786 non-null   float64\n",
            " 15  new_deaths_per_million                      6832 non-null   float64\n",
            " 16  new_deaths_smoothed_per_million             6807 non-null   float64\n",
            " 17  reproduction_rate                           5196 non-null   float64\n",
            " 18  icu_patients                                2393 non-null   float64\n",
            " 19  icu_patients_per_million                    2393 non-null   float64\n",
            " 20  hosp_patients                               1199 non-null   float64\n",
            " 21  hosp_patients_per_million                   1199 non-null   float64\n",
            " 22  weekly_icu_admissions                       691 non-null    float64\n",
            " 23  weekly_icu_admissions_per_million           691 non-null    float64\n",
            " 24  weekly_hosp_admissions                      2407 non-null   float64\n",
            " 25  weekly_hosp_admissions_per_million          2407 non-null   float64\n",
            " 26  total_tests                                 2132 non-null   float64\n",
            " 27  new_tests                                   1900 non-null   float64\n",
            " 28  total_tests_per_thousand                    2132 non-null   float64\n",
            " 29  new_tests_per_thousand                      1900 non-null   float64\n",
            " 30  new_tests_smoothed                          3798 non-null   float64\n",
            " 31  new_tests_smoothed_per_thousand             3798 non-null   float64\n",
            " 32  positive_rate                               2418 non-null   float64\n",
            " 33  tests_per_case                              2418 non-null   float64\n",
            " 34  tests_units                                 3833 non-null   object \n",
            " 35  total_vaccinations                          4081 non-null   float64\n",
            " 36  people_vaccinated                           3444 non-null   float64\n",
            " 37  people_fully_vaccinated                     3394 non-null   float64\n",
            " 38  total_boosters                              2412 non-null   float64\n",
            " 39  new_vaccinations                            3979 non-null   float64\n",
            " 40  new_vaccinations_smoothed                   4311 non-null   float64\n",
            " 41  total_vaccinations_per_hundred              4081 non-null   float64\n",
            " 42  people_vaccinated_per_hundred               3444 non-null   float64\n",
            " 43  people_fully_vaccinated_per_hundred         3394 non-null   float64\n",
            " 44  total_boosters_per_hundred                  2412 non-null   float64\n",
            " 45  new_vaccinations_smoothed_per_million       4311 non-null   float64\n",
            " 46  new_people_vaccinated_smoothed              4134 non-null   float64\n",
            " 47  new_people_vaccinated_smoothed_per_hundred  4134 non-null   float64\n",
            " 48  stringency_index                            5470 non-null   float64\n",
            " 49  population_density                          7002 non-null   float64\n",
            " 50  median_age                                  7002 non-null   float64\n",
            " 51  aged_65_older                               7002 non-null   float64\n",
            " 52  aged_70_older                               7002 non-null   float64\n",
            " 53  gdp_per_capita                              7002 non-null   float64\n",
            " 54  extreme_poverty                             5602 non-null   float64\n",
            " 55  cardiovasc_death_rate                       7002 non-null   float64\n",
            " 56  diabetes_prevalence                         7002 non-null   float64\n",
            " 57  female_smokers                              7002 non-null   float64\n",
            " 58  male_smokers                                7002 non-null   float64\n",
            " 59  handwashing_facilities                      1402 non-null   float64\n",
            " 60  hospital_beds_per_thousand                  7002 non-null   float64\n",
            " 61  life_expectancy                             7002 non-null   float64\n",
            " 62  human_development_index                     7002 non-null   float64\n",
            " 63  population                                  7002 non-null   float64\n",
            " 64  excess_mortality_cumulative_absolute        431 non-null    float64\n",
            " 65  excess_mortality_cumulative                 431 non-null    float64\n",
            " 66  excess_mortality                            431 non-null    float64\n",
            " 67  excess_mortality_cumulative_per_million     431 non-null    float64\n",
            "dtypes: float64(62), int64(1), object(5)\n",
            "memory usage: 3.6+ MB\n"
          ]
        }
      ]
    },
    {
      "cell_type": "code",
      "source": [
        "print('{} Numeros de  duplicatas'.format(sum(df_select_paises.duplicated()))) # mostrar as duplicatas\n",
        "print('{} number of missing cells'.format(df_select_paises.isna().sum().sum())) # number of missing cells\n",
        "print('{}% percentage of missing cells'.format(round(df_select_paises.isna().sum().sum() / df_select_paises.size * 100, 1))) # percentage of missing cells\n",
        "print('{} verificando a data mais recente do dataset'.format(df_select_paises.date.max())) # verificando a data mais recente do dataset\n",
        "print('{} verificando a primeira data  do dataset'.format(df_select_paises.date.min())) # verificando a primeira data  do dataset"
      ],
      "metadata": {
        "colab": {
          "base_uri": "https://localhost:8080/"
        },
        "id": "-P4ZtBqMnbIv",
        "outputId": "e2d8f65f-6da9-4414-8114-4a98699e16de"
      },
      "execution_count": 743,
      "outputs": [
        {
          "output_type": "stream",
          "name": "stdout",
          "text": [
            "0 Numeros de  duplicatas\n",
            "163572 number of missing cells\n",
            "34.4% percentage of missing cells\n",
            "2023-11-04 verificando a data mais recente do dataset\n",
            "2020-01-03 verificando a primeira data  do dataset\n"
          ]
        }
      ]
    },
    {
      "cell_type": "markdown",
      "source": [
        "## Colunas e linhas a há serem apagadas\n",
        "\n",
        "Podemos ver que há várias colunas onde a porcentagem de valores nulos é maior que 50%. Essas colunas devem ser apagadas"
      ],
      "metadata": {
        "id": "zr_d3avQnAbX"
      }
    },
    {
      "cell_type": "code",
      "source": [
        "# verificando dados ausentes\n",
        "round((df_select_paises[['iso_code', 'continent', 'location', 'date', 'total_cases', 'new_cases',\n",
        "       'new_cases_smoothed', 'total_deaths', 'new_deaths',\n",
        "       'new_deaths_smoothed', 'total_cases_per_million',\n",
        "       'new_cases_per_million', 'new_cases_smoothed_per_million',\n",
        "       'total_deaths_per_million', 'new_deaths_per_million',\n",
        "       'new_deaths_smoothed_per_million', 'reproduction_rate', 'icu_patients',\n",
        "       'icu_patients_per_million', 'hosp_patients',\n",
        "       'hosp_patients_per_million', 'weekly_icu_admissions',\n",
        "       'weekly_icu_admissions_per_million', 'weekly_hosp_admissions',\n",
        "       'weekly_hosp_admissions_per_million', 'total_tests', 'new_tests',\n",
        "       'total_tests_per_thousand', 'new_tests_per_thousand',\n",
        "       'new_tests_smoothed', 'new_tests_smoothed_per_thousand',\n",
        "       'positive_rate', 'tests_per_case', 'tests_units', 'total_vaccinations',\n",
        "       'people_vaccinated', 'people_fully_vaccinated', 'total_boosters',\n",
        "       'new_vaccinations', 'new_vaccinations_smoothed',\n",
        "       'total_vaccinations_per_hundred', 'people_vaccinated_per_hundred',\n",
        "       'people_fully_vaccinated_per_hundred', 'total_boosters_per_hundred',\n",
        "       'new_vaccinations_smoothed_per_million',]].isnull().sum() / df_select_paises.shape[0]).sort_values(ascending=False),2)"
      ],
      "metadata": {
        "colab": {
          "base_uri": "https://localhost:8080/"
        },
        "id": "3pUKVyhHi8Ni",
        "outputId": "782b6a04-89fa-46e3-ae2c-9bcca97bfb88"
      },
      "execution_count": 744,
      "outputs": [
        {
          "output_type": "execute_result",
          "data": {
            "text/plain": [
              "weekly_icu_admissions_per_million        0.90\n",
              "weekly_icu_admissions                    0.90\n",
              "hosp_patients                            0.83\n",
              "hosp_patients_per_million                0.83\n",
              "new_tests_per_thousand                   0.73\n",
              "new_tests                                0.73\n",
              "total_tests                              0.70\n",
              "total_tests_per_thousand                 0.70\n",
              "icu_patients                             0.66\n",
              "icu_patients_per_million                 0.66\n",
              "weekly_hosp_admissions_per_million       0.66\n",
              "weekly_hosp_admissions                   0.66\n",
              "total_boosters                           0.66\n",
              "total_boosters_per_hundred               0.66\n",
              "tests_per_case                           0.65\n",
              "positive_rate                            0.65\n",
              "people_fully_vaccinated                  0.52\n",
              "people_fully_vaccinated_per_hundred      0.52\n",
              "people_vaccinated_per_hundred            0.51\n",
              "people_vaccinated                        0.51\n",
              "new_tests_smoothed                       0.46\n",
              "new_tests_smoothed_per_thousand          0.46\n",
              "tests_units                              0.45\n",
              "new_vaccinations                         0.43\n",
              "total_vaccinations_per_hundred           0.42\n",
              "total_vaccinations                       0.42\n",
              "new_vaccinations_smoothed                0.38\n",
              "new_vaccinations_smoothed_per_million    0.38\n",
              "reproduction_rate                        0.26\n",
              "total_deaths_per_million                 0.03\n",
              "total_deaths                             0.03\n",
              "new_cases_smoothed_per_million           0.03\n",
              "new_cases_smoothed                       0.03\n",
              "new_deaths_smoothed                      0.03\n",
              "new_deaths_smoothed_per_million          0.03\n",
              "new_cases_per_million                    0.03\n",
              "new_cases                                0.03\n",
              "new_deaths_per_million                   0.02\n",
              "new_deaths                               0.02\n",
              "total_cases_per_million                  0.01\n",
              "total_cases                              0.01\n",
              "location                                 0.00\n",
              "continent                                0.00\n",
              "date                                     0.00\n",
              "iso_code                                 0.00\n",
              "dtype: float64"
            ]
          },
          "metadata": {},
          "execution_count": 744
        }
      ]
    },
    {
      "cell_type": "code",
      "source": [
        "round((df_select_paises[['new_people_vaccinated_smoothed_per_hundred', 'stringency_index',\n",
        "       'population_density', 'median_age', 'aged_65_older', 'aged_70_older',\n",
        "       'gdp_per_capita', 'extreme_poverty', 'cardiovasc_death_rate',\n",
        "       'diabetes_prevalence', 'female_smokers', 'male_smokers',\n",
        "       'handwashing_facilities', 'hospital_beds_per_thousand',\n",
        "       'life_expectancy', 'human_development_index', 'population',\n",
        "       'excess_mortality_cumulative_absolute', 'excess_mortality_cumulative',\n",
        "       'excess_mortality', 'excess_mortality_cumulative_per_million']].isnull().sum() / df_select_paises.shape[0]).sort_values(ascending=False),2)"
      ],
      "metadata": {
        "colab": {
          "base_uri": "https://localhost:8080/"
        },
        "id": "Q_P93f91nrmo",
        "outputId": "2bee6691-9907-434d-dae8-458062c0ac6a"
      },
      "execution_count": 745,
      "outputs": [
        {
          "output_type": "execute_result",
          "data": {
            "text/plain": [
              "excess_mortality_cumulative_per_million       0.94\n",
              "excess_mortality                              0.94\n",
              "excess_mortality_cumulative                   0.94\n",
              "excess_mortality_cumulative_absolute          0.94\n",
              "handwashing_facilities                        0.80\n",
              "new_people_vaccinated_smoothed_per_hundred    0.41\n",
              "stringency_index                              0.22\n",
              "extreme_poverty                               0.20\n",
              "gdp_per_capita                                0.00\n",
              "cardiovasc_death_rate                         0.00\n",
              "diabetes_prevalence                           0.00\n",
              "male_smokers                                  0.00\n",
              "aged_70_older                                 0.00\n",
              "hospital_beds_per_thousand                    0.00\n",
              "life_expectancy                               0.00\n",
              "human_development_index                       0.00\n",
              "population                                    0.00\n",
              "aged_65_older                                 0.00\n",
              "median_age                                    0.00\n",
              "population_density                            0.00\n",
              "female_smokers                                0.00\n",
              "dtype: float64"
            ]
          },
          "metadata": {},
          "execution_count": 745
        }
      ]
    },
    {
      "cell_type": "markdown",
      "source": [
        "# Limpeza dos dados\n",
        "Primeiro apagaremos as colunas com maior numeros de valores nulos assim com as colunas que nao vamos utilizar na analise."
      ],
      "metadata": {
        "id": "cepbMZjQnzjv"
      }
    },
    {
      "cell_type": "code",
      "source": [
        "df_clean = df_select_paises.copy()\n",
        "\n",
        "# drop  coluna com mais de 40% de valores nulosw `.\n",
        "# drop Zeile  `host_name `.\n",
        "\n",
        "df_clean.drop(columns=['weekly_icu_admissions_per_million',\n",
        "                        'weekly_icu_admissions',\n",
        "                        'hosp_patients',\n",
        "                        'hosp_patients_per_million',\n",
        "                        'new_tests_per_thousand',\n",
        "                        'new_tests',\n",
        "                        'total_tests',\n",
        "                        'total_tests_per_thousand',\n",
        "                        'icu_patients_per_million',\n",
        "                        'icu_patients',\n",
        "                        'weekly_hosp_admissions_per_million',\n",
        "                        'weekly_hosp_admissions',\n",
        "                        'total_boosters',\n",
        "                        'total_boosters_per_hundred',\n",
        "                        'tests_per_case',\n",
        "                        'positive_rate',\n",
        "                        'people_fully_vaccinated',\n",
        "                        'people_fully_vaccinated_per_hundred',\n",
        "                        'people_vaccinated_per_hundred',\n",
        "                        'people_vaccinated',\n",
        "                        'new_tests_smoothed_per_thousand',\n",
        "                        'new_tests_smoothed',\n",
        "                        'tests_units',\n",
        "                        'new_vaccinations',\n",
        "                        'total_vaccinations_per_hundred',\n",
        "                        'total_vaccinations',\n",
        "                        'new_vaccinations_smoothed',\n",
        "                        'new_vaccinations_smoothed_per_million'],axis =1,inplace=True)\n",
        "\n",
        "\n",
        "df_clean.drop(columns=[\"excess_mortality_cumulative_per_million\",\n",
        "                       \"excess_mortality\",\n",
        "                       \"excess_mortality_cumulative\",\n",
        "                       \"excess_mortality_cumulative_absolute\",\n",
        "                       \"handwashing_facilities\",\n",
        "                       \"new_people_vaccinated_smoothed_per_hundred\"],axis =1,inplace=True)"
      ],
      "metadata": {
        "id": "R7OmnFFKyfTx"
      },
      "execution_count": 746,
      "outputs": []
    },
    {
      "cell_type": "code",
      "source": [
        "print('{} number of missing cells'.format(df_clean.isna().sum().sum())) # number of missing cells\n",
        "print('{} percentage of missing cells'.format(round(df_clean.isna().sum().sum() / df_clean.size * 100, 1)))"
      ],
      "metadata": {
        "colab": {
          "base_uri": "https://localhost:8080/"
        },
        "id": "_jdWT4iK2bEU",
        "outputId": "7ea48b3d-a112-4ace-f6cc-2513bac66034"
      },
      "execution_count": 747,
      "outputs": [
        {
          "output_type": "stream",
          "name": "stdout",
          "text": [
            "9736 number of missing cells\n",
            "4.1 percentage of missing cells\n"
          ]
        }
      ]
    },
    {
      "cell_type": "code",
      "source": [
        "df_clean.columns"
      ],
      "metadata": {
        "colab": {
          "base_uri": "https://localhost:8080/"
        },
        "id": "-eTLkfsc23G6",
        "outputId": "a94b4877-6568-4a85-904d-8422b88b37f7"
      },
      "execution_count": 748,
      "outputs": [
        {
          "output_type": "execute_result",
          "data": {
            "text/plain": [
              "Index(['index', 'iso_code', 'continent', 'location', 'date', 'total_cases',\n",
              "       'new_cases', 'new_cases_smoothed', 'total_deaths', 'new_deaths',\n",
              "       'new_deaths_smoothed', 'total_cases_per_million',\n",
              "       'new_cases_per_million', 'new_cases_smoothed_per_million',\n",
              "       'total_deaths_per_million', 'new_deaths_per_million',\n",
              "       'new_deaths_smoothed_per_million', 'reproduction_rate',\n",
              "       'new_people_vaccinated_smoothed', 'stringency_index',\n",
              "       'population_density', 'median_age', 'aged_65_older', 'aged_70_older',\n",
              "       'gdp_per_capita', 'extreme_poverty', 'cardiovasc_death_rate',\n",
              "       'diabetes_prevalence', 'female_smokers', 'male_smokers',\n",
              "       'hospital_beds_per_thousand', 'life_expectancy',\n",
              "       'human_development_index', 'population'],\n",
              "      dtype='object')"
            ]
          },
          "metadata": {},
          "execution_count": 748
        }
      ]
    },
    {
      "cell_type": "code",
      "source": [
        "lista =[]\n",
        "round((df_clean[['index', 'iso_code', 'continent', 'location', 'date', 'total_cases',\n",
        "       'new_cases', 'new_cases_smoothed', 'total_deaths', 'new_deaths',\n",
        "       'new_deaths_smoothed', 'total_cases_per_million',\n",
        "       'new_cases_per_million', 'new_cases_smoothed_per_million',\n",
        "       'total_deaths_per_million', 'new_deaths_per_million',\n",
        "       'new_deaths_smoothed_per_million', 'reproduction_rate',\n",
        "       'new_people_vaccinated_smoothed', 'stringency_index',\n",
        "       'population_density', 'median_age', 'aged_65_older', 'aged_70_older',\n",
        "       'gdp_per_capita', 'extreme_poverty', 'cardiovasc_death_rate',\n",
        "       'diabetes_prevalence', 'female_smokers', 'male_smokers',\n",
        "       'hospital_beds_per_thousand', 'life_expectancy',\n",
        "       'human_development_index', 'population']].isnull().sum() / df_clean.shape[0]).sort_values(ascending=False),2)\n",
        "\n"
      ],
      "metadata": {
        "colab": {
          "base_uri": "https://localhost:8080/"
        },
        "id": "MQ-Vs9Cr3V1D",
        "outputId": "72b5358e-329a-4864-e0db-707726346f8f"
      },
      "execution_count": 749,
      "outputs": [
        {
          "output_type": "execute_result",
          "data": {
            "text/plain": [
              "new_people_vaccinated_smoothed     0.41\n",
              "reproduction_rate                  0.26\n",
              "stringency_index                   0.22\n",
              "extreme_poverty                    0.20\n",
              "total_deaths_per_million           0.03\n",
              "total_deaths                       0.03\n",
              "new_cases_smoothed                 0.03\n",
              "new_cases_smoothed_per_million     0.03\n",
              "new_deaths_smoothed                0.03\n",
              "new_deaths_smoothed_per_million    0.03\n",
              "new_cases_per_million              0.03\n",
              "new_cases                          0.03\n",
              "new_deaths                         0.02\n",
              "new_deaths_per_million             0.02\n",
              "total_cases_per_million            0.01\n",
              "total_cases                        0.01\n",
              "gdp_per_capita                     0.00\n",
              "male_smokers                       0.00\n",
              "life_expectancy                    0.00\n",
              "human_development_index            0.00\n",
              "female_smokers                     0.00\n",
              "diabetes_prevalence                0.00\n",
              "cardiovasc_death_rate              0.00\n",
              "hospital_beds_per_thousand         0.00\n",
              "index                              0.00\n",
              "aged_70_older                      0.00\n",
              "aged_65_older                      0.00\n",
              "median_age                         0.00\n",
              "population_density                 0.00\n",
              "iso_code                           0.00\n",
              "date                               0.00\n",
              "location                           0.00\n",
              "continent                          0.00\n",
              "population                         0.00\n",
              "dtype: float64"
            ]
          },
          "metadata": {},
          "execution_count": 749
        }
      ]
    },
    {
      "cell_type": "code",
      "source": [
        "# apagando as linhas que tem valores nulos.\n",
        "df_clean.dropna(subset=['total_deaths_per_million', 'total_deaths','new_cases_smoothed','new_cases_smoothed_per_million',\n",
        "                        'new_cases_per_million','new_cases','new_deaths','new_deaths_per_million',\n",
        "                        'total_cases_per_million','total_cases'],inplace=True)"
      ],
      "metadata": {
        "id": "DWtFkQ_15_le"
      },
      "execution_count": 750,
      "outputs": []
    },
    {
      "cell_type": "code",
      "source": [
        "round((df_clean[['continent', 'location', 'date', 'total_cases',\n",
        "       'new_cases', 'new_cases_smoothed', 'total_deaths', 'new_deaths',\n",
        "       'new_deaths_smoothed', 'total_cases_per_million',\n",
        "       'new_cases_per_million', 'new_cases_smoothed_per_million',\n",
        "       'total_deaths_per_million', 'new_deaths_per_million',\n",
        "       'new_deaths_smoothed_per_million', 'reproduction_rate',\n",
        "       'new_people_vaccinated_smoothed', 'stringency_index',\n",
        "       'population_density', 'median_age', 'aged_65_older', 'aged_70_older',\n",
        "       'gdp_per_capita', 'extreme_poverty', 'cardiovasc_death_rate',\n",
        "       'diabetes_prevalence', 'female_smokers', 'male_smokers',\n",
        "       'hospital_beds_per_thousand', 'life_expectancy',\n",
        "       'human_development_index', 'population']].isnull().sum() / df_clean.shape[0]).sort_values(ascending=False),2)"
      ],
      "metadata": {
        "colab": {
          "base_uri": "https://localhost:8080/"
        },
        "id": "wQVc0V7H6WHK",
        "outputId": "d30872a1-86be-402c-b087-43b1e00dd53e"
      },
      "execution_count": 751,
      "outputs": [
        {
          "output_type": "execute_result",
          "data": {
            "text/plain": [
              "new_people_vaccinated_smoothed     0.38\n",
              "reproduction_rate                  0.21\n",
              "extreme_poverty                    0.21\n",
              "stringency_index                   0.21\n",
              "human_development_index            0.00\n",
              "life_expectancy                    0.00\n",
              "hospital_beds_per_thousand         0.00\n",
              "male_smokers                       0.00\n",
              "female_smokers                     0.00\n",
              "diabetes_prevalence                0.00\n",
              "cardiovasc_death_rate              0.00\n",
              "gdp_per_capita                     0.00\n",
              "aged_70_older                      0.00\n",
              "aged_65_older                      0.00\n",
              "median_age                         0.00\n",
              "population_density                 0.00\n",
              "continent                          0.00\n",
              "location                           0.00\n",
              "new_deaths_smoothed_per_million    0.00\n",
              "new_deaths_per_million             0.00\n",
              "total_deaths_per_million           0.00\n",
              "new_cases_smoothed_per_million     0.00\n",
              "new_cases_per_million              0.00\n",
              "total_cases_per_million            0.00\n",
              "new_deaths_smoothed                0.00\n",
              "new_deaths                         0.00\n",
              "total_deaths                       0.00\n",
              "new_cases_smoothed                 0.00\n",
              "new_cases                          0.00\n",
              "total_cases                        0.00\n",
              "date                               0.00\n",
              "population                         0.00\n",
              "dtype: float64"
            ]
          },
          "metadata": {},
          "execution_count": 751
        }
      ]
    },
    {
      "cell_type": "code",
      "source": [
        "# potar valores nas colunas new_people_vaccinated_smoothed, reproduction_rate ,extreme_poverty"
      ],
      "metadata": {
        "id": "B7PU1juZ76TU"
      },
      "execution_count": 730,
      "outputs": []
    },
    {
      "cell_type": "code",
      "source": [
        "import numpy as np\n",
        "import pandas as pd\n",
        "import matplotlib.pyplot as plt\n",
        "import seaborn as sns\n",
        "\n",
        "sns.set_style()\n",
        "%matplotlib inline\n",
        "\n",
        "import warnings\n",
        "warnings.filterwarnings('ignore')\n",
        "\n",
        "data = 'https://raw.githubusercontent.com/carlosfab/dsnp2/master/datasets/owid-covid-data.csv'\n",
        "data_1 ='/content/owid-covid-data.csv'\n",
        "\n",
        "df = pd.read_csv(data_1)"
      ],
      "metadata": {
        "id": "m0BZ5L_f11Bw"
      },
      "execution_count": 701,
      "outputs": []
    },
    {
      "cell_type": "code",
      "source": [
        "df_clean = df_select_paises.copy()\n",
        "\n",
        "# drop  Spalte `license`, `reviews_per_month `, `last_review `.\n",
        "# drop Zeile  `host_name `.\n",
        "\n",
        "df_clean.drop(columns=[\"weekly_icu_admissions_per_million\",\n",
        "                      \"weekly_hosp_admissions_per_million\",\n",
        "                      \"weekly_hosp_admissions_per_million\",\n",
        "                      \"weekly_icu_admissions_per_million\",\n",
        "                      \"hosp_patients_per_million\",\n",
        "                      \"hosp_patients\",\n",
        "                      \"icu_patients_per_million\",\n",
        "                      \"icu_patients\",\n",
        "                      \"total_boosters_per_hundred\",\n",
        "                      \"total_boosters\",\n",
        "                      \"new_tests_per_thousand\",\n",
        "                      \"new_tests\",\n",
        "                      \"total_tests\",\n",
        "                      \"total_tests_per_thousand\",\n",
        "                      \"new_vaccinations\",\n",
        "                      \"people_fully_vaccinated\",\n",
        "                      \"people_fully_vaccinated_per_hundred\",\n",
        "                      \"people_vaccinated\",\n",
        "                      \"people_vaccinated_per_hundred\",\n",
        "                      \"total_vaccinations\",\n",
        "                      \"total_vaccinations_per_hundred\",\n",
        "                      \"tests_per_case\",\n",
        "                      \"positive_rate\",\n",
        "                      \"new_tests_smoothed_per_thousand\",\n",
        "                      \"new_tests_smoothed\",\n",
        "                      \"tests_units\",\n",
        "                      \"reproduction_rate\",\n",
        "                      \"new_vaccinations_smoothed\",\n",
        "                      \"new_vaccinations_smoothed_per_million\"],axis =1,inplace=True)\n",
        "\n",
        "\n",
        "df_clean.drop(columns=[\"excess_mortality_cumulative_per_million\",\n",
        "                       \"excess_mortality\",\n",
        "                       \"excess_mortality_cumulative\",\n",
        "                       \"excess_mortality_cumulative_absolute\",\n",
        "                       \"handwashing_facilities\",\n",
        "                       \"extreme_poverty\",\n",
        "                       \"male_smokers\",\n",
        "                       \"female_smokers\",\n",
        "                       \"stringency_index\",\n",
        "                       \"hospital_beds_per_thousand\",\n",
        "                       \"new_people_vaccinated_smoothed_per_hundred\",\n",
        "                       \"new_people_vaccinated_smoothed\",\"weekly_icu_admissions\",\"weekly_hosp_admissions\"],axis =1,inplace=True)\n",
        "\n",
        "#df_clean.drop('continent',axis =1,inplace=True)\n",
        "#df_clean.drop('total_cases',axis =1,inplace=True)\n",
        "\n",
        "df_clean.dropna(subset=['new_cases', 'new_cases_smoothed','total_deaths','new_deaths',\n",
        "                      'new_deaths_smoothed','total_cases_per_million'],inplace=True)\n",
        "print('Shape vor cleaning: ', df.shape)\n",
        "print('Shape nach cleaning: ',df_clean.shape)\n",
        "\n",
        "df_clean.isna().sum()\n",
        "\n"
      ],
      "metadata": {
        "colab": {
          "base_uri": "https://localhost:8080/"
        },
        "id": "fFQu32wyl5Qo",
        "outputId": "aae81fa3-df59-46fb-a7ba-509a1ce4140e"
      },
      "execution_count": 703,
      "outputs": [
        {
          "output_type": "stream",
          "name": "stdout",
          "text": [
            "Shape vor cleaning:  (353730, 67)\n",
            "Shape nach cleaning:  (6607, 27)\n"
          ]
        },
        {
          "output_type": "execute_result",
          "data": {
            "text/plain": [
              "index                              0\n",
              "iso_code                           0\n",
              "continent                          0\n",
              "location                           0\n",
              "date                               0\n",
              "total_cases                        0\n",
              "new_cases                          0\n",
              "new_cases_smoothed                 0\n",
              "total_deaths                       0\n",
              "new_deaths                         0\n",
              "new_deaths_smoothed                0\n",
              "total_cases_per_million            0\n",
              "new_cases_per_million              0\n",
              "new_cases_smoothed_per_million     0\n",
              "total_deaths_per_million           0\n",
              "new_deaths_per_million             0\n",
              "new_deaths_smoothed_per_million    0\n",
              "population_density                 0\n",
              "median_age                         0\n",
              "aged_65_older                      0\n",
              "aged_70_older                      0\n",
              "gdp_per_capita                     0\n",
              "cardiovasc_death_rate              0\n",
              "diabetes_prevalence                0\n",
              "life_expectancy                    0\n",
              "human_development_index            0\n",
              "population                         0\n",
              "dtype: int64"
            ]
          },
          "metadata": {},
          "execution_count": 703
        }
      ]
    },
    {
      "cell_type": "code",
      "source": [
        "df_clean.info()"
      ],
      "metadata": {
        "colab": {
          "base_uri": "https://localhost:8080/"
        },
        "id": "2zl9-n2evjpG",
        "outputId": "2171721e-48f8-44d2-fd18-67b91b8ccad5"
      },
      "execution_count": 704,
      "outputs": [
        {
          "output_type": "stream",
          "name": "stdout",
          "text": [
            "<class 'pandas.core.frame.DataFrame'>\n",
            "Int64Index: 6607 entries, 76 to 6835\n",
            "Data columns (total 27 columns):\n",
            " #   Column                           Non-Null Count  Dtype  \n",
            "---  ------                           --------------  -----  \n",
            " 0   index                            6607 non-null   int64  \n",
            " 1   iso_code                         6607 non-null   object \n",
            " 2   continent                        6607 non-null   object \n",
            " 3   location                         6607 non-null   object \n",
            " 4   date                             6607 non-null   object \n",
            " 5   total_cases                      6607 non-null   float64\n",
            " 6   new_cases                        6607 non-null   float64\n",
            " 7   new_cases_smoothed               6607 non-null   float64\n",
            " 8   total_deaths                     6607 non-null   float64\n",
            " 9   new_deaths                       6607 non-null   float64\n",
            " 10  new_deaths_smoothed              6607 non-null   float64\n",
            " 11  total_cases_per_million          6607 non-null   float64\n",
            " 12  new_cases_per_million            6607 non-null   float64\n",
            " 13  new_cases_smoothed_per_million   6607 non-null   float64\n",
            " 14  total_deaths_per_million         6607 non-null   float64\n",
            " 15  new_deaths_per_million           6607 non-null   float64\n",
            " 16  new_deaths_smoothed_per_million  6607 non-null   float64\n",
            " 17  population_density               6607 non-null   float64\n",
            " 18  median_age                       6607 non-null   float64\n",
            " 19  aged_65_older                    6607 non-null   float64\n",
            " 20  aged_70_older                    6607 non-null   float64\n",
            " 21  gdp_per_capita                   6607 non-null   float64\n",
            " 22  cardiovasc_death_rate            6607 non-null   float64\n",
            " 23  diabetes_prevalence              6607 non-null   float64\n",
            " 24  life_expectancy                  6607 non-null   float64\n",
            " 25  human_development_index          6607 non-null   float64\n",
            " 26  population                       6607 non-null   float64\n",
            "dtypes: float64(22), int64(1), object(4)\n",
            "memory usage: 1.4+ MB\n"
          ]
        }
      ]
    },
    {
      "cell_type": "code",
      "source": [
        "# grupierem nach länder USA, China, Brazil, India, Alemanha"
      ],
      "metadata": {
        "id": "zRlOwjI5sU3m"
      },
      "execution_count": 488,
      "outputs": []
    },
    {
      "cell_type": "code",
      "source": [
        "filter_de_paises = ['Brazil','China','Germany','United States','India']\n",
        "\n",
        "df_laender =  df[df.location.isin(filter_de_paises)]"
      ],
      "metadata": {
        "id": "bSHtln6XCzRa"
      },
      "execution_count": 552,
      "outputs": []
    },
    {
      "cell_type": "code",
      "source": [
        "df_laender.location.unique()"
      ],
      "metadata": {
        "colab": {
          "base_uri": "https://localhost:8080/"
        },
        "id": "SUT3JPhSDAMG",
        "outputId": "d3564f88-06cf-437c-9e3c-11ba230ea5e5"
      },
      "execution_count": 554,
      "outputs": [
        {
          "output_type": "execute_result",
          "data": {
            "text/plain": [
              "array(['Brazil', 'China', 'Germany', 'India', 'United States'],\n",
              "      dtype=object)"
            ]
          },
          "metadata": {},
          "execution_count": 554
        }
      ]
    },
    {
      "cell_type": "code",
      "source": [
        "round((df_laender[['iso_code', 'continent', 'location', 'date', 'total_cases', 'new_cases',\n",
        "       'new_cases_smoothed', 'total_deaths', 'new_deaths',\n",
        "       'new_deaths_smoothed', 'total_cases_per_million',\n",
        "       'new_cases_per_million', 'new_cases_smoothed_per_million',\n",
        "       'total_deaths_per_million', 'new_deaths_per_million',\n",
        "       'new_deaths_smoothed_per_million', 'reproduction_rate', 'icu_patients',\n",
        "       'icu_patients_per_million', 'hosp_patients',\n",
        "       'hosp_patients_per_million', 'weekly_icu_admissions',\n",
        "       'weekly_icu_admissions_per_million', 'weekly_hosp_admissions',\n",
        "       'weekly_hosp_admissions_per_million', 'total_tests', 'new_tests',\n",
        "       'total_tests_per_thousand', 'new_tests_per_thousand',\n",
        "       'new_tests_smoothed', 'new_tests_smoothed_per_thousand',\n",
        "       'positive_rate', 'tests_per_case', 'tests_units', 'total_vaccinations',\n",
        "       'people_vaccinated', 'people_fully_vaccinated', 'total_boosters',\n",
        "       'new_vaccinations', 'new_vaccinations_smoothed',\n",
        "       'total_vaccinations_per_hundred', 'people_vaccinated_per_hundred',\n",
        "       'people_fully_vaccinated_per_hundred', 'total_boosters_per_hundred',\n",
        "       'new_vaccinations_smoothed_per_million']].isnull().sum() / df_laender.shape[0]).sort_values(ascending=False),2)"
      ],
      "metadata": {
        "colab": {
          "base_uri": "https://localhost:8080/"
        },
        "id": "E5eOrxUFDtvk",
        "outputId": "962c0b13-db5d-4a4e-c82f-152dcd3526d6"
      },
      "execution_count": 555,
      "outputs": [
        {
          "output_type": "execute_result",
          "data": {
            "text/plain": [
              "weekly_icu_admissions_per_million        0.90\n",
              "weekly_icu_admissions                    0.90\n",
              "hosp_patients                            0.83\n",
              "hosp_patients_per_million                0.83\n",
              "new_tests_per_thousand                   0.73\n",
              "new_tests                                0.73\n",
              "total_tests                              0.70\n",
              "total_tests_per_thousand                 0.70\n",
              "icu_patients                             0.66\n",
              "icu_patients_per_million                 0.66\n",
              "weekly_hosp_admissions_per_million       0.66\n",
              "weekly_hosp_admissions                   0.66\n",
              "total_boosters                           0.66\n",
              "total_boosters_per_hundred               0.66\n",
              "tests_per_case                           0.65\n",
              "positive_rate                            0.65\n",
              "people_fully_vaccinated                  0.52\n",
              "people_fully_vaccinated_per_hundred      0.52\n",
              "people_vaccinated_per_hundred            0.51\n",
              "people_vaccinated                        0.51\n",
              "new_tests_smoothed                       0.46\n",
              "new_tests_smoothed_per_thousand          0.46\n",
              "tests_units                              0.45\n",
              "new_vaccinations                         0.43\n",
              "total_vaccinations_per_hundred           0.42\n",
              "total_vaccinations                       0.42\n",
              "new_vaccinations_smoothed                0.38\n",
              "new_vaccinations_smoothed_per_million    0.38\n",
              "reproduction_rate                        0.26\n",
              "total_deaths_per_million                 0.03\n",
              "total_deaths                             0.03\n",
              "new_cases_smoothed_per_million           0.03\n",
              "new_cases_smoothed                       0.03\n",
              "new_deaths_smoothed                      0.03\n",
              "new_deaths_smoothed_per_million          0.03\n",
              "new_cases_per_million                    0.03\n",
              "new_cases                                0.03\n",
              "new_deaths_per_million                   0.02\n",
              "new_deaths                               0.02\n",
              "total_cases_per_million                  0.01\n",
              "total_cases                              0.01\n",
              "location                                 0.00\n",
              "continent                                0.00\n",
              "date                                     0.00\n",
              "iso_code                                 0.00\n",
              "dtype: float64"
            ]
          },
          "metadata": {},
          "execution_count": 555
        }
      ]
    },
    {
      "cell_type": "code",
      "source": [
        "round((df_laender[['new_people_vaccinated_smoothed',\n",
        "       'new_people_vaccinated_smoothed_per_hundred', 'stringency_index',\n",
        "       'population_density', 'median_age', 'aged_65_older', 'aged_70_older',\n",
        "       'gdp_per_capita', 'extreme_poverty', 'cardiovasc_death_rate',\n",
        "       'diabetes_prevalence', 'female_smokers', 'male_smokers',\n",
        "       'handwashing_facilities', 'hospital_beds_per_thousand',\n",
        "       'life_expectancy', 'human_development_index', 'population',\n",
        "       'excess_mortality_cumulative_absolute', 'excess_mortality_cumulative',\n",
        "       'excess_mortality', 'excess_mortality_cumulative_per_million']].isnull().sum() / df_laender.shape[0]).sort_values(ascending=False),2)"
      ],
      "metadata": {
        "colab": {
          "base_uri": "https://localhost:8080/"
        },
        "id": "Haf68FdOFmHM",
        "outputId": "d3d8ae58-0ae4-4020-c630-f25584bad7b9"
      },
      "execution_count": 545,
      "outputs": [
        {
          "output_type": "execute_result",
          "data": {
            "text/plain": [
              "excess_mortality_cumulative_per_million       0.94\n",
              "excess_mortality                              0.94\n",
              "excess_mortality_cumulative                   0.94\n",
              "excess_mortality_cumulative_absolute          0.94\n",
              "handwashing_facilities                        0.80\n",
              "new_people_vaccinated_smoothed_per_hundred    0.41\n",
              "new_people_vaccinated_smoothed                0.41\n",
              "stringency_index                              0.22\n",
              "extreme_poverty                               0.20\n",
              "gdp_per_capita                                0.00\n",
              "cardiovasc_death_rate                         0.00\n",
              "diabetes_prevalence                           0.00\n",
              "aged_70_older                                 0.00\n",
              "male_smokers                                  0.00\n",
              "aged_65_older                                 0.00\n",
              "hospital_beds_per_thousand                    0.00\n",
              "life_expectancy                               0.00\n",
              "human_development_index                       0.00\n",
              "population                                    0.00\n",
              "median_age                                    0.00\n",
              "population_density                            0.00\n",
              "female_smokers                                0.00\n",
              "dtype: float64"
            ]
          },
          "metadata": {},
          "execution_count": 545
        }
      ]
    },
    {
      "cell_type": "code",
      "source": [
        "df_laender.isna().sum().sum() # number of missing cells"
      ],
      "metadata": {
        "colab": {
          "base_uri": "https://localhost:8080/"
        },
        "id": "bb1PbC9nF1vx",
        "outputId": "bc828293-c553-4c59-bb0c-727c3f26803e"
      },
      "execution_count": 546,
      "outputs": [
        {
          "output_type": "execute_result",
          "data": {
            "text/plain": [
              "163572"
            ]
          },
          "metadata": {},
          "execution_count": 546
        }
      ]
    },
    {
      "cell_type": "code",
      "source": [
        "round(df_laender.isna().sum().sum() / df_laender.size * 100, 1) # percentage of missing cells"
      ],
      "metadata": {
        "colab": {
          "base_uri": "https://localhost:8080/"
        },
        "id": "JmJLqvB0G2bl",
        "outputId": "17523997-7fab-4ac9-d2d9-aff9e6b32d0e"
      },
      "execution_count": 547,
      "outputs": [
        {
          "output_type": "execute_result",
          "data": {
            "text/plain": [
              "34.9"
            ]
          },
          "metadata": {},
          "execution_count": 547
        }
      ]
    },
    {
      "cell_type": "code",
      "source": [
        "# verificando as dimensões\n",
        "print('Dimensões do Dataset',\n",
        "    '\\nVariáveis: ',df_laender.shape[1], \"\\n\"\n",
        "      'Entradas: ', df_laender.shape[0])"
      ],
      "metadata": {
        "colab": {
          "base_uri": "https://localhost:8080/"
        },
        "id": "K9UQAlZqGmHq",
        "outputId": "ae42a6cb-e8be-4865-9cf0-af065737e99c"
      },
      "execution_count": 556,
      "outputs": [
        {
          "output_type": "stream",
          "name": "stdout",
          "text": [
            "Dimensões do Dataset \n",
            "Variáveis:  67 \n",
            "Entradas:  7002\n"
          ]
        }
      ]
    },
    {
      "cell_type": "code",
      "source": [
        "df_laender.info()"
      ],
      "metadata": {
        "colab": {
          "base_uri": "https://localhost:8080/"
        },
        "id": "oSgLhrizHfGZ",
        "outputId": "a5248c6b-90d6-4c03-f2c3-930c57d5d775"
      },
      "execution_count": 558,
      "outputs": [
        {
          "output_type": "stream",
          "name": "stdout",
          "text": [
            "<class 'pandas.core.frame.DataFrame'>\n",
            "Int64Index: 7002 entries, 42005 to 334324\n",
            "Data columns (total 67 columns):\n",
            " #   Column                                      Non-Null Count  Dtype  \n",
            "---  ------                                      --------------  -----  \n",
            " 0   iso_code                                    7002 non-null   object \n",
            " 1   continent                                   7002 non-null   object \n",
            " 2   location                                    7002 non-null   object \n",
            " 3   date                                        7002 non-null   object \n",
            " 4   total_cases                                 6899 non-null   float64\n",
            " 5   new_cases                                   6824 non-null   float64\n",
            " 6   new_cases_smoothed                          6799 non-null   float64\n",
            " 7   total_deaths                                6786 non-null   float64\n",
            " 8   new_deaths                                  6832 non-null   float64\n",
            " 9   new_deaths_smoothed                         6807 non-null   float64\n",
            " 10  total_cases_per_million                     6899 non-null   float64\n",
            " 11  new_cases_per_million                       6824 non-null   float64\n",
            " 12  new_cases_smoothed_per_million              6799 non-null   float64\n",
            " 13  total_deaths_per_million                    6786 non-null   float64\n",
            " 14  new_deaths_per_million                      6832 non-null   float64\n",
            " 15  new_deaths_smoothed_per_million             6807 non-null   float64\n",
            " 16  reproduction_rate                           5196 non-null   float64\n",
            " 17  icu_patients                                2393 non-null   float64\n",
            " 18  icu_patients_per_million                    2393 non-null   float64\n",
            " 19  hosp_patients                               1199 non-null   float64\n",
            " 20  hosp_patients_per_million                   1199 non-null   float64\n",
            " 21  weekly_icu_admissions                       691 non-null    float64\n",
            " 22  weekly_icu_admissions_per_million           691 non-null    float64\n",
            " 23  weekly_hosp_admissions                      2407 non-null   float64\n",
            " 24  weekly_hosp_admissions_per_million          2407 non-null   float64\n",
            " 25  total_tests                                 2132 non-null   float64\n",
            " 26  new_tests                                   1900 non-null   float64\n",
            " 27  total_tests_per_thousand                    2132 non-null   float64\n",
            " 28  new_tests_per_thousand                      1900 non-null   float64\n",
            " 29  new_tests_smoothed                          3798 non-null   float64\n",
            " 30  new_tests_smoothed_per_thousand             3798 non-null   float64\n",
            " 31  positive_rate                               2418 non-null   float64\n",
            " 32  tests_per_case                              2418 non-null   float64\n",
            " 33  tests_units                                 3833 non-null   object \n",
            " 34  total_vaccinations                          4081 non-null   float64\n",
            " 35  people_vaccinated                           3444 non-null   float64\n",
            " 36  people_fully_vaccinated                     3394 non-null   float64\n",
            " 37  total_boosters                              2412 non-null   float64\n",
            " 38  new_vaccinations                            3979 non-null   float64\n",
            " 39  new_vaccinations_smoothed                   4311 non-null   float64\n",
            " 40  total_vaccinations_per_hundred              4081 non-null   float64\n",
            " 41  people_vaccinated_per_hundred               3444 non-null   float64\n",
            " 42  people_fully_vaccinated_per_hundred         3394 non-null   float64\n",
            " 43  total_boosters_per_hundred                  2412 non-null   float64\n",
            " 44  new_vaccinations_smoothed_per_million       4311 non-null   float64\n",
            " 45  new_people_vaccinated_smoothed              4134 non-null   float64\n",
            " 46  new_people_vaccinated_smoothed_per_hundred  4134 non-null   float64\n",
            " 47  stringency_index                            5470 non-null   float64\n",
            " 48  population_density                          7002 non-null   float64\n",
            " 49  median_age                                  7002 non-null   float64\n",
            " 50  aged_65_older                               7002 non-null   float64\n",
            " 51  aged_70_older                               7002 non-null   float64\n",
            " 52  gdp_per_capita                              7002 non-null   float64\n",
            " 53  extreme_poverty                             5602 non-null   float64\n",
            " 54  cardiovasc_death_rate                       7002 non-null   float64\n",
            " 55  diabetes_prevalence                         7002 non-null   float64\n",
            " 56  female_smokers                              7002 non-null   float64\n",
            " 57  male_smokers                                7002 non-null   float64\n",
            " 58  handwashing_facilities                      1402 non-null   float64\n",
            " 59  hospital_beds_per_thousand                  7002 non-null   float64\n",
            " 60  life_expectancy                             7002 non-null   float64\n",
            " 61  human_development_index                     7002 non-null   float64\n",
            " 62  population                                  7002 non-null   float64\n",
            " 63  excess_mortality_cumulative_absolute        431 non-null    float64\n",
            " 64  excess_mortality_cumulative                 431 non-null    float64\n",
            " 65  excess_mortality                            431 non-null    float64\n",
            " 66  excess_mortality_cumulative_per_million     431 non-null    float64\n",
            "dtypes: float64(62), object(5)\n",
            "memory usage: 3.6+ MB\n"
          ]
        }
      ]
    },
    {
      "cell_type": "code",
      "source": [
        "df_laender.date.max()"
      ],
      "metadata": {
        "colab": {
          "base_uri": "https://localhost:8080/",
          "height": 35
        },
        "id": "DFOifIMgHiCl",
        "outputId": "64a67400-6b7d-43ca-c27e-9848a6680b24"
      },
      "execution_count": 540,
      "outputs": [
        {
          "output_type": "execute_result",
          "data": {
            "text/plain": [
              "'2023-11-04'"
            ],
            "application/vnd.google.colaboratory.intrinsic+json": {
              "type": "string"
            }
          },
          "metadata": {},
          "execution_count": 540
        }
      ]
    },
    {
      "cell_type": "code",
      "source": [],
      "metadata": {
        "id": "DEW-l9H3IsE1"
      },
      "execution_count": null,
      "outputs": []
    }
  ]
}